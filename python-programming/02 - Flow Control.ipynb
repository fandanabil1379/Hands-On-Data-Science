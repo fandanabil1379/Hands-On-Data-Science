{
 "cells": [
  {
   "attachments": {},
   "cell_type": "markdown",
   "metadata": {},
   "source": [
    " <p style='text-align: right;'> <span style='color:Blue'> Created by: Shafanda nabil sembodo </p> </span>\n",
    "\n",
    " <h1><p style='text-align: center; font-weight: bold;'> Flow Control </p></h1>\n",
    "\n",
    "Manusia dalam kehidupannya sering bergantung pada sebuah kondisi untuk menentukan apa yang hendak dikerjakan. Misalnya, jika cuaca diluar rumah sedang hujan, Anda akan menggunakan payung. Di lain sisi, manusia juga melakukan pekerjaan berulang pada kondisi tertentu. Misalnya, saat Anda sedang makan, Anda akan mengulangi hal yang sama, yaitu memasukkan makanan ke dalam mulut dan mencernanya. Kedua ilustrasi ini memiliki kesamaan di mana ada kondisi tertentu yang membuat Anda melakukan suatu aktivitas. Walaupun secara umum kondisi ini di luar kehendak Anda, tapi ada juga yang bisa Anda kendalikan, jenis kondisi ini lah yang kita sebut sebagai flow control.\n",
    "___"
   ]
  },
  {
   "attachments": {},
   "cell_type": "markdown",
   "metadata": {},
   "source": [
    "## `1. Basic Concept`\n",
    "\n",
    "Sebelum Anda belajar tentang flow control lebih lanjut, pertama-tama Anda perlu mempelajari cara merepresentasikan opsi True dan False, dan Anda perlu memahami cara menulis titik percabangan tersebut sebagai kode Python. Walaupun telah kita singgung sebelumnya, mari jelajahi lagi nilai Boolean, operator pembanding, dan operator Boolean dengan lebih detail."
   ]
  },
  {
   "attachments": {},
   "cell_type": "markdown",
   "metadata": {},
   "source": [
    "#### **1.1 Boolean Value**\n",
    "\n",
    "Tipe data integer, floating, dan string memiliki jumlah kemungkinan nilai yang tidak terbatas, berbeda dengan **tipe data Boolean yang hanya memiliki dua nilai yaitu** `True` **dan** `False`. **Boolean digunakan dalam operasi perbandingan atau logika**, dan dapat disimpan dalam variabel. Python menetapkan Boolean True dan False tidak memiliki tanda kutip seperti yang Anda tempatkan di sekitar string, dan selalu di awali dengan huruf kapital T atau F. "
   ]
  },
  {
   "cell_type": "code",
   "execution_count": null,
   "metadata": {},
   "outputs": [],
   "source": [
    "# Contoh penulisan boolean value\n",
    "condition_1 = True\n",
    "condition_2 = False\n",
    "print(condition_1, condition_2)"
   ]
  },
  {
   "attachments": {},
   "cell_type": "markdown",
   "metadata": {},
   "source": [
    "#### **1.2 Comparison Operators**\n",
    "\n",
    "Operator perbandingan, juga disebut operator relasional, **digunakan untuk membandingkan dua nilai dan mengevaluasinya menjadi satu nilai Boolean**. Ada delapan operasi perbandingan dalam Python, dan semuanya memiliki prioritas yang sama. Anda tidak bisa membandingkan antar tipe data yang berbeda, misalnya teks dengan numerik."
   ]
  },
  {
   "cell_type": "code",
   "execution_count": null,
   "metadata": {},
   "outputs": [],
   "source": [
    "# Contoh operasi perbandingan\n",
    "'hello' == 'hello'      # True\n",
    "'world!' != 'World!'    # True \n",
    "42 < 5                  # False\n",
    "10.0 >= 10              # True"
   ]
  },
  {
   "attachments": {},
   "cell_type": "markdown",
   "metadata": {},
   "source": [
    "#### **1.3. Logical Operators**\n",
    "\n",
    "Tiga operator lainnya yang digunakan untuk membandingkan dua nilai Boolean dan mengevaluasinya sebagai nilai Boolean, yaitu `and`, `or`, dan `not`. Operator `and` dan `or` selalu membandingkan dua nilai Boolean, dan keduanya juga dianggap sebagai operator biner. **Operator and menghasilkan True jika kedua nilai Boolean adalah True, namun jika sebaliknya, dievaluasi menjadi False**."
   ]
  },
  {
   "cell_type": "code",
   "execution_count": null,
   "metadata": {},
   "outputs": [],
   "source": [
    "# Contoh operator and\n",
    "True and True       # True\n",
    "True and False      # False\n",
    "False and True      # False\n",
    "False and False     # False"
   ]
  },
  {
   "attachments": {},
   "cell_type": "markdown",
   "metadata": {},
   "source": [
    "Di sisi lain, **operator or menghasilkan True jika salah satu dari dua nilai Boolean adalah True, namun jika keduanya False, dievaluasi menjadi False**."
   ]
  },
  {
   "cell_type": "code",
   "execution_count": null,
   "metadata": {},
   "outputs": [],
   "source": [
    "# Contoh operator or\n",
    "True or True       # True\n",
    "True or False      # True\n",
    "False or True      # True\n",
    "False or False     # False"
   ]
  },
  {
   "attachments": {},
   "cell_type": "markdown",
   "metadata": {},
   "source": [
    "Berbeda dengan operator and dan or, operator not hanya beroperasi pada satu nilai Boolean. Hal ini membuatnya menjadi operator unary. **Operator not menghasilkan nilai Boolean yang berlawanan**."
   ]
  },
  {
   "cell_type": "code",
   "execution_count": null,
   "metadata": {},
   "outputs": [],
   "source": [
    "# Contoh operator not\n",
    "not True                # False\n",
    "not False               # True\n",
    "not not not not True    # True"
   ]
  },
  {
   "attachments": {},
   "cell_type": "markdown",
   "metadata": {},
   "source": [
    "#### **1.4 Element of Flow Control**\n",
    "\n",
    "**Flow control statements selalu dimulai dengan bagian yang disebut kondisi dan diikuti oleh blok kode yang disebut klausa**. Sebelum Anda mempelajari tentang flow control statements, kita akan membahas keduanya.\n",
    "\n",
    "**Ekspresi Boolean yang telah Anda lihat sejauh ini semuanya dapat dianggap sebagai kondisi**, kondisi hanyalah nama yang lebih spesifik dalam konteks flow control statements. Kondisi selalu menghasilkan nilai Boolean, True atau False. Flow control statements memutuskan apa yang harus dilakukan berdasarkan apakah kondisinya True atau False, dan hampir setiap flow control statements menggunakan kondisi.\n",
    "\n",
    "**Baris kode di Python dapat dikelompokkan bersama dalam suatu blok. Anda dapat mengetahui kapan sebuah blok dimulai dan diakhiri dari indentation pada baris kode**. Ada tiga aturan tentang blok yaitu:\n",
    "1. Blok dimulai saat indentation bertambah.\n",
    "2. Blok dapat berisi blok lain.\n",
    "3. Blok berakhir ketika indentation berkurang menjadi nol atau ke blok lain.\n"
   ]
  },
  {
   "cell_type": "code",
   "execution_count": null,
   "metadata": {},
   "outputs": [],
   "source": [
    "# Identifikasi kondisi dan klausa\n",
    "username = 'Nabil'\n",
    "password = 12345\n",
    "\n",
    "if username.lower() == 'nabil':\n",
    "    print(f'Halo, {username}')                      # Kode blok pertama\n",
    "    if password == 12345:\n",
    "        print('Akses diberikan.')                   # Kode blok kedua\n",
    "    else:\n",
    "        print('Kata sandi salah.')                  # Kode blok ketiga\n",
    "else:\n",
    "    print(f'Username {username} tidak terdaftar')   # Kode blok keempat"
   ]
  },
  {
   "attachments": {},
   "cell_type": "markdown",
   "metadata": {},
   "source": [
    "## `2. Flow Control Statements`\n",
    "\n",
    "Sebuah program hanyalah serangkaian instruksi, tetapi hakikatnya mengeksekusi program tidak hanya soal menjalankan satu per satu instruksi. Sebuah program dapat memutuskan untuk melewatkan instruksi, mengulanginya, atau memilih salah satu dari beberapa instruksi untuk dijalankan. **Python menjadikan flow control statements untuk memutuskan instruksi mana yang akan dieksekusi dan dalam kondisi apa**. "
   ]
  },
  {
   "attachments": {},
   "cell_type": "markdown",
   "metadata": {},
   "source": [
    "#### **2.1 if Conditional Statements**\n",
    "\n",
    "Jenis flow control statements yang paling umum adalah pernyataan if. **Klausa if (yaitu, blok yang mengikuti pernyataan if) akan dieksekusi jika kondisi dari pernyataan adalah True, dan klausa akan dilewati jika kondisinya False**. Anda dapat mengartikan pernyataan if sebagai **“jika kondisi ini benar, jalankan kode di dalam klausa”**. Sintaksis pernyataan if terdiri dari empat bagian berikut ini:\n",
    "1. Kata kunci if\n",
    "2. Kondisi, yaitu ekspresi yang mengevaluasi ke True atau False\n",
    "3. Tanda titik dua atau colon\n",
    "4. Klausa if, blok kode yang terindentasi (dimulai dari baris berikutnya)\n"
   ]
  },
  {
   "cell_type": "code",
   "execution_count": 1,
   "metadata": {},
   "outputs": [
    {
     "name": "stdout",
     "output_type": "stream",
     "text": [
      "Usia Anda mencukupi, kami segera akan mengirimkan email.\n"
     ]
    }
   ],
   "source": [
    "# Contoh if conditional statements\n",
    "age = 20\n",
    "\n",
    "if age >= 17:\n",
    "    print(f'Usia Anda mencukupi, kami segera akan mengirimkan email.')"
   ]
  },
  {
   "attachments": {},
   "cell_type": "markdown",
   "metadata": {},
   "source": [
    "#### **2.2 else Conditional Statements**\n",
    "\n",
    "Klausa if secara opsional dapat diikuti oleh pernyataan lain, seperti pernyataan else. **Klausa else dieksekusi ketika kondisi pernyataan if bernilai False**. Anda dapat mengartikan pernyataan else sebagai **“jika kondisi ini benar, jalankan klausa A. Jika selain itu, jalankan klausa B”**. Dalam Python, pernyataan else tidak memiliki kondisi, sehingga sintaksis pernyataan else terdiri dari tiga bagian berikut ini:\n",
    "1. Kata kunci else\n",
    "2. Tanda titik dua atau colon\n",
    "3. Klausa else, blok kode yang terindentasi (dimulai dari baris berikutnya)\n"
   ]
  },
  {
   "cell_type": "code",
   "execution_count": 3,
   "metadata": {},
   "outputs": [
    {
     "name": "stdout",
     "output_type": "stream",
     "text": [
      "Usia nabil mencukupi, kami segera akan mengirimkan email.\n"
     ]
    }
   ],
   "source": [
    "# Contoh else conditional statements\n",
    "name = \"nabil\"\n",
    "age = 18\n",
    "\n",
    "if age >= 17:\n",
    "    print(f'Usia {name} mencukupi, kami segera akan mengirimkan email.')\n",
    "else:\n",
    "    print(f'Usia {name} belum mencukupi')"
   ]
  },
  {
   "attachments": {},
   "cell_type": "markdown",
   "metadata": {},
   "source": [
    "#### **2.3 elif Conditional Statements**\n",
    "\n",
    "Statement sebelumnya hanya satu dari klausa if atau else yang akan dieksekusi, Anda mungkin memiliki kasus di mana Anda menginginkan salah satu dari banyak kemungkinan klausa untuk dieksekusi. **Pernyataan elif adalah pernyataan “else if” yang selalu mengikuti pernyataan if atau pernyataan elif lainnya. Pernyataan ini memberikan kondisi lain, klausa elif dieksekusi hanya jika semua kondisi sebelumnya adalah False**. Anda dapat mengartikan pernyataan elif sebagai **“jika kondisi pertama benar, lakukan A. Jika selain itu (kondisi kedua benar), lakukan B. Jika keduanya salah, maka lakukan sesuatu yang lain”**. Sintaksis pernyataan elif terdiri dari empat bagian berikut ini:\n",
    "1. Kata kunci elif\n",
    "2. Kondisi, yaitu ekspresi yang mengevaluasi ke True atau False.\n",
    "3. Tanda titik dua atau colon\n",
    "4. Klausa elif, blok kode yang terindentasi (dimulai dari baris berikutnya)\n"
   ]
  },
  {
   "cell_type": "code",
   "execution_count": 4,
   "metadata": {},
   "outputs": [
    {
     "name": "stdout",
     "output_type": "stream",
     "text": [
      "Kategori nilai Anda adalah C\n"
     ]
    }
   ],
   "source": [
    "# Contoh elif conditional statements\n",
    "score = 75\n",
    "\n",
    "if 90 <= score <= 100:\n",
    "   grade = 'A'\n",
    "elif 80 <= score <= 89:\n",
    "   grade = 'B'\n",
    "elif 70 <= score <= 79:\n",
    "   grade = 'C'\n",
    "elif 60 <= score <= 69:\n",
    "   grade = 'D'  \n",
    "else:\n",
    "   grade = 'E'\n",
    "\n",
    "print(f'Kategori nilai Anda adalah {grade}')"
   ]
  },
  {
   "attachments": {},
   "cell_type": "markdown",
   "metadata": {},
   "source": [
    "#### **2.4 while Loop Statement**\n",
    "\n",
    "Pernyataan while mirip dengan pernyataan if. Perbedaan keduanya terletak pada bagaimana mereka berperilaku. **Di akhir klausa if, eksekusi program berlanjut ke algoritme selanjutnya setelah pernyataan if selesai. Tetapi pada akhir klausa while, eksekusi program melompat kembali ke kondisi awal pernyataan while**. Sintaksis pernyataan while terdiri dari empat bagian berikut ini:\n",
    "1. Kata kunci while\n",
    "2. Kondisi, yaitu ekspresi yang mengevaluasi ke True atau False.\n",
    "3. Tanda titik dua atau kolon\n",
    "4. Klausa while, blok kode yang terindentasi (dimulai dari baris berikutnya)\n"
   ]
  },
  {
   "cell_type": "code",
   "execution_count": 8,
   "metadata": {},
   "outputs": [
    {
     "name": "stdout",
     "output_type": "stream",
     "text": [
      "Hello, world.\n"
     ]
    }
   ],
   "source": [
    "# Contoh if conditional statement\n",
    "value = 0\n",
    "\n",
    "if value < 5:\n",
    "    print('Hello, world.')\n",
    "    value = value + 1\n",
    "else:\n",
    "    print('Finish')"
   ]
  },
  {
   "cell_type": "code",
   "execution_count": 11,
   "metadata": {},
   "outputs": [
    {
     "name": "stdout",
     "output_type": "stream",
     "text": [
      "Hello, world.\n",
      "Hello, world.\n",
      "Hello, world.\n",
      "Hello, world.\n",
      "Hello, world.\n",
      "Finish\n"
     ]
    }
   ],
   "source": [
    "# Contoh while loop statement\n",
    "value = 0\n",
    "\n",
    "while value < 5:\n",
    "    print('Hello, world.')\n",
    "    value = value + 1\n",
    "else:\n",
    "    print('Finish')"
   ]
  },
  {
   "attachments": {},
   "cell_type": "markdown",
   "metadata": {},
   "source": [
    "#### **2.5 for Loop Statements**\n",
    "\n",
    "Kalang while terus berputar selama kondisinya adalah True, **jika Anda hanya ingin mengeksekusi klausa beberapa kali saja, maka Anda dapat melakukannya dengan pernyataan kalang for dan fungsi range()**. Sintaksis pernyataan for dengan fungsi range() terdiri dari bagian berikut ini:\n",
    "1. Kata kunci for\n",
    "2. Nama variabel\n",
    "3. Kata kunci in\n",
    "4. Panggilan ke fungsi range() \n",
    "5. Tanda titik dua atau colon\n",
    "6. Klausa for, blok kode yang terindentasi (dimulai dari baris berikutnya)\n"
   ]
  },
  {
   "cell_type": "code",
   "execution_count": 12,
   "metadata": {},
   "outputs": [
    {
     "name": "stdout",
     "output_type": "stream",
     "text": [
      "Nabil Three Times: 0\n"
     ]
    }
   ],
   "source": [
    "# Contoh for loop statements\n",
    "for i in range(3):\n",
    "    print(f'Nabil Three Times: {i}')"
   ]
  },
  {
   "attachments": {},
   "cell_type": "markdown",
   "metadata": {},
   "source": [
    "Fungsi `range()` bisa dipanggil dengan tiga argumen, y**aitu dua argumen pertama akan menjadi nilai awal dan akhir, dan yang ketiga akan menjadi argumen step (jumlah langkah setiap iterasi)**."
   ]
  },
  {
   "cell_type": "code",
   "execution_count": 13,
   "metadata": {},
   "outputs": [
    {
     "name": "stdout",
     "output_type": "stream",
     "text": [
      "Nomor 0\n",
      "Nomor 2\n",
      "Nomor 4\n"
     ]
    }
   ],
   "source": [
    "# Contoh increased iteration\n",
    "for i in range(0, 6, 2):\n",
    "   print(f'Nomor {i}')"
   ]
  },
  {
   "attachments": {},
   "cell_type": "markdown",
   "metadata": {},
   "source": [
    "Fungsi `range()` juga fleksibel dalam urutan angka yang dihasilkan oleh kalang for. M**isalnya menggunakan angka negatif untuk argumen step agar kalang for menghitung mundur, bukan naik**."
   ]
  },
  {
   "cell_type": "code",
   "execution_count": 14,
   "metadata": {},
   "outputs": [
    {
     "name": "stdout",
     "output_type": "stream",
     "text": [
      "Nomor 3\n",
      "Nomor 2\n",
      "Nomor 1\n"
     ]
    }
   ],
   "source": [
    "# Contoh decreased iteration\n",
    "for i in range(3, 0, -1):\n",
    "    print(f'Nomor {i}')"
   ]
  },
  {
   "attachments": {},
   "cell_type": "markdown",
   "metadata": {},
   "source": [
    "#### **2.6 break Statements**\n",
    "\n",
    "Ada jalan pintas untuk membuat eksekusi program keluar dari kalang klausa while atau klausa for lebih awal. **Anda bisa menambahkan pernyataan break untuk segera keluar dari kalang**. Dalam Python, sintaksis pernyataan break hanya berisi kata kunci break. "
   ]
  },
  {
   "cell_type": "code",
   "execution_count": 29,
   "metadata": {},
   "outputs": [
    {
     "name": "stdout",
     "output_type": "stream",
     "text": [
      "Tuliskan nama Anda: \n",
      "Tuliskan nama Anda: \n",
      "Tuliskan nama Anda: \n",
      "Tuliskan nama Anda: \n",
      "Tuliskan nama Anda: \n",
      "Tuliskan nama Anda: \n",
      "Tuliskan nama Anda: \n",
      "Halo Nabil!\n"
     ]
    }
   ],
   "source": [
    "# Contoh penerapan break statement pada while loop\n",
    "while True:\n",
    "   print('Tuliskan nama Anda: ')\n",
    "   name = input()\n",
    "   if name.upper() == 'NABIL':\n",
    "       print('Halo Nabil!')\n",
    "       break"
   ]
  },
  {
   "cell_type": "code",
   "execution_count": 30,
   "metadata": {},
   "outputs": [
    {
     "name": "stdout",
     "output_type": "stream",
     "text": [
      "Nomor 0\n",
      "Nomor 1\n",
      "Nomor 2\n"
     ]
    }
   ],
   "source": [
    "# Contoh penerapan break statement pada for loop\n",
    "for i in range(5):\n",
    "   if i >= 3:\n",
    "       break\n",
    "   print(f'Nomor {i}')"
   ]
  },
  {
   "attachments": {},
   "cell_type": "markdown",
   "metadata": {},
   "source": [
    "#### **2.7 continue Statements**\n",
    "\n",
    "Mirip seperti pernyataan break, pernyataan continue digunakan di dalam kalang. **Saat eksekusi program mencapai pernyataan continue, eksekusi program segera melompat kembali ke awal kalang dan mengevaluasi ulang kondisi kalang**. "
   ]
  },
  {
   "cell_type": "code",
   "execution_count": 32,
   "metadata": {},
   "outputs": [
    {
     "name": "stdout",
     "output_type": "stream",
     "text": [
      "Tuliskan nama Anda: \n",
      "Tuliskan nama Anda: \n",
      "Tuliskan nama Anda: \n",
      "Tuliskan nama Anda: \n"
     ]
    }
   ],
   "source": [
    "# Contoh penerapan continue statement pada while loop\n",
    "while True:\n",
    "    print('Tuliskan nama Anda: ')\n",
    "    name = input()\n",
    "    if name.capitalize() != 'Nabil':\n",
    "        continue\n",
    "    \n",
    "    while True:\n",
    "        password = input('Hello, Nabil. Silahkan input password!')\n",
    "        if int(password) == 123:\n",
    "            break\n",
    "    break"
   ]
  },
  {
   "cell_type": "code",
   "execution_count": 31,
   "metadata": {},
   "outputs": [
    {
     "name": "stdout",
     "output_type": "stream",
     "text": [
      "Nomor 0\n",
      "Nomor 1\n",
      "Nomor 2\n",
      "Nomor 4\n"
     ]
    }
   ],
   "source": [
    "# Contoh penerapan continue statement pada for loop\n",
    "for i in range(5):\n",
    "   if i == 3:\n",
    "       continue\n",
    "   print(f'Nomor {i}')"
   ]
  }
 ],
 "metadata": {
  "kernelspec": {
   "display_name": "env",
   "language": "python",
   "name": "python3"
  },
  "language_info": {
   "codemirror_mode": {
    "name": "ipython",
    "version": 3
   },
   "file_extension": ".py",
   "mimetype": "text/x-python",
   "name": "python",
   "nbconvert_exporter": "python",
   "pygments_lexer": "ipython3",
   "version": "3.9.16"
  },
  "orig_nbformat": 4
 },
 "nbformat": 4,
 "nbformat_minor": 2
}

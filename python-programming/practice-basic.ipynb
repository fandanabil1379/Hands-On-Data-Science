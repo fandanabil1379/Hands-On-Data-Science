{
 "cells": [
  {
   "cell_type": "code",
   "execution_count": 61,
   "metadata": {},
   "outputs": [
    {
     "name": "stdout",
     "output_type": "stream",
     "text": [
      "0.694\n"
     ]
    }
   ],
   "source": [
    "# Q1\n",
    "\n",
    "x, y, z = 4, 3, 2\n",
    "\n",
    "w = ((x + y * z)/(x * y)) ** z\n",
    "print(round(w, 3))"
   ]
  },
  {
   "cell_type": "code",
   "execution_count": 62,
   "metadata": {},
   "outputs": [
    {
     "name": "stdout",
     "output_type": "stream",
     "text": [
      "Kuadrat dari 5 = 25\n"
     ]
    }
   ],
   "source": [
    "# Q2\n",
    "\n",
    "num = int(input(\"Silahkan masukkan angka berapapun : \"))\n",
    "print('Kuadrat dari {} = {}'.format(num, num**2))"
   ]
  },
  {
   "cell_type": "code",
   "execution_count": 63,
   "metadata": {},
   "outputs": [
    {
     "name": "stdout",
     "output_type": "stream",
     "text": [
      "485 hari: 1 tahun 4 bulan 0 minggu 5 hari\n"
     ]
    }
   ],
   "source": [
    "# Q3\n",
    "\n",
    "import math\n",
    "\n",
    "day = int(input(\"Silahkan masukkan angka berapapun : \"))\n",
    "remaining = day\n",
    "\n",
    "# year\n",
    "year = math.floor(remaining/360)\n",
    "remaining %= 360\n",
    "\n",
    "# month\n",
    "month = math.floor(remaining/30)\n",
    "remaining %= 30\n",
    "\n",
    "# week\n",
    "week = math.floor(remaining/7)\n",
    "remaining %= 7\n",
    "\n",
    "# show\n",
    "print(f'{day} hari: {year} tahun {month} bulan {week} minggu {remaining} hari')"
   ]
  },
  {
   "cell_type": "code",
   "execution_count": 64,
   "metadata": {},
   "outputs": [
    {
     "name": "stdout",
     "output_type": "stream",
     "text": [
      "\n",
      "      Dua tahun akan datang:\n",
      "      Andi berusia 16 tahun dan \n",
      "      Budi berusia 37 tahun\n"
     ]
    }
   ],
   "source": [
    "# Q4\n",
    "\n",
    "total = 49\n",
    "andi = int(total * (2/7))\n",
    "budi = int(total * (5/7))\n",
    "\n",
    "print(f'''\n",
    "      Dua tahun akan datang:\n",
    "      Andi berusia {andi+2} tahun dan \n",
    "      Budi berusia {budi+2} tahun'''\n",
    ")"
   ]
  },
  {
   "cell_type": "code",
   "execution_count": 65,
   "metadata": {},
   "outputs": [
    {
     "name": "stdout",
     "output_type": "stream",
     "text": [
      "Kecelakan pukul 10:12:0\n"
     ]
    }
   ],
   "source": [
    "# Q5\n",
    "\n",
    "import math \n",
    "\n",
    "init_time = 9\n",
    "distance = 120\n",
    "velocity = 100/3600\n",
    "time = distance/velocity\n",
    "\n",
    "hour = math.floor(time/3600)\n",
    "minute = math.floor((time%3600)/60)\n",
    "second = math.floor((time%3600)%60)\n",
    "\n",
    "print(f'Kecelakan pukul {init_time+hour}:{minute}:{second}')"
   ]
  },
  {
   "cell_type": "code",
   "execution_count": 11,
   "metadata": {},
   "outputs": [
    {
     "name": "stdout",
     "output_type": "stream",
     "text": [
      "\n",
      "    total: 22\n",
      "    reverse: 7654\n"
     ]
    }
   ],
   "source": [
    "# Q6\n",
    "\n",
    "num = int(input('Enter the four digit number: '))\n",
    "\n",
    "a = num//1000\n",
    "b = (num - a*1000)//100\n",
    "c = (num - a*1000 - b*100)//10\n",
    "d = num - a*1000 - b*100 - c*10\n",
    "\n",
    "print(f'''\n",
    "    total: {a+b+c+d}\n",
    "    reverse: {d}{c}{b}{a}'''\n",
    ")"
   ]
  },
  {
   "cell_type": "code",
   "execution_count": 15,
   "metadata": {},
   "outputs": [
    {
     "name": "stdout",
     "output_type": "stream",
     "text": [
      "\n",
      "    slope: 2\n",
      "    distance: 2.236\n"
     ]
    }
   ],
   "source": [
    "# Q7\n",
    "\n",
    "import math\n",
    "\n",
    "x1, y1 = input('Enter the coordinate of point A: ').split(',')\n",
    "x2, y2 = input('Enter the coordinate of point B: ').split(',')\n",
    "\n",
    "x1, x2, y1, y2 = int(x1), int(x2), int(y1), int(y2)\n",
    "slope = int((y2-y1)/(x2-x1))\n",
    "distance = math.sqrt((x2-x1)**2 + (y2-y1)**2)\n",
    "\n",
    "print(f'''\n",
    "    slope: {slope}\n",
    "    distance: {round(distance, 3)}'''\n",
    ")"
   ]
  },
  {
   "cell_type": "code",
   "execution_count": 18,
   "metadata": {},
   "outputs": [
    {
     "name": "stdout",
     "output_type": "stream",
     "text": [
      "expected result: dhiwa purka\n"
     ]
    }
   ],
   "source": [
    "# Q8 \n",
    "\n",
    "x1, x2 = input('Enter the sample string: ').split(',')\n",
    "\n",
    "x1, x2 = x1.strip(), x2.strip()\n",
    "text = f'{x2[:3] + x1[3:]} {x1[:3] + x2[3:]}'\n",
    "\n",
    "print(f'expected result: {text}')"
   ]
  },
  {
   "cell_type": "code",
   "execution_count": 3,
   "metadata": {},
   "outputs": [
    {
     "name": "stdout",
     "output_type": "stream",
     "text": [
      "expected result: jPKdAA\n"
     ]
    }
   ],
   "source": [
    "# Q9\n",
    "\n",
    "x1 = input('Enter the first text: ')\n",
    "x2 = input('Enter the second text: ')\n",
    "\n",
    "text = f'{x1[0]} {x2[0]} {x1[len(x1)//2]} {x2[len(x2)//2]} {x1[-1]} {x2[-1]}'\n",
    "\n",
    "print(f'expected result: {text}')"
   ]
  },
  {
   "cell_type": "code",
   "execution_count": 23,
   "metadata": {},
   "outputs": [
    {
     "name": "stdout",
     "output_type": "stream",
     "text": [
      "expected result: JC0210DS\n"
     ]
    }
   ],
   "source": [
    "# Q10\n",
    "\n",
    "x1 = input('Enter the first text: ')\n",
    "x2 = input('Enter the second text: ')\n",
    "\n",
    "mid = len(x1)//2\n",
    "text = f'{x1[:mid]}{x2}{x1[mid:]}'\n",
    "\n",
    "print(f'expected result: {text}')"
   ]
  }
 ],
 "metadata": {
  "kernelspec": {
   "display_name": "Python 3",
   "language": "python",
   "name": "python3"
  },
  "language_info": {
   "codemirror_mode": {
    "name": "ipython",
    "version": 3
   },
   "file_extension": ".py",
   "mimetype": "text/x-python",
   "name": "python",
   "nbconvert_exporter": "python",
   "pygments_lexer": "ipython3",
   "version": "3.9.16"
  },
  "orig_nbformat": 4
 },
 "nbformat": 4,
 "nbformat_minor": 2
}

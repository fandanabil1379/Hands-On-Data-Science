{
 "cells": [
  {
   "attachments": {},
   "cell_type": "markdown",
   "metadata": {},
   "source": [
    "# **List & Tuple**\n",
    "\n",
    "Satu topik lagi yang perlu kita pahami adalah tipe data list dan sepupunya, tuple. List dan tuple dapat berisi banyak nilai, yang membuat penulisan program yang menangani data dalam jumlah besar menjadi lebih mudah, dan dapat menggunakannya untuk mengatur data ke dalam struktur hirarki.\n",
    "Pada bab ini, kami akan membahas dasar-dasar list & tuple. Kami juga akan mengajarkan kita tentang metode, yang merupakan fungsi yang terkait dengan tipe data tersebut. \n",
    "___"
   ]
  },
  {
   "attachments": {},
   "cell_type": "markdown",
   "metadata": {},
   "source": [
    "### **1. List Data Type**\n",
    "\n",
    "List termasuk tipe data yang dapat menampung banyak nilai, dengan jenis yang berbeda, dan dalam urutan yang terurut. Nilai di dalam list disebut item, masing-masing item dipisahkan dengan koma. Mirip seperti string yang diketik di antara karakter kutipan, sintaksis list dimulai dengan tanda kurung siku buka dan diakhiri dengan tanda kurung siku tutup. "
   ]
  },
  {
   "cell_type": "code",
   "execution_count": null,
   "metadata": {},
   "outputs": [],
   "source": [
    "# Contoh cara membuat list\n",
    "spam = ['halo', 3.1415, True, None, 42]\n",
    "spam"
   ]
  },
  {
   "attachments": {},
   "cell_type": "markdown",
   "metadata": {},
   "source": [
    "List bisa menampung tipe data list lainnya, disebut nested list. Tidak hanya satu tingkat, melainkan lebih dari itu, membentuk hirarki yang kompleks. "
   ]
  },
  {
   "cell_type": "code",
   "execution_count": null,
   "metadata": {},
   "outputs": [],
   "source": [
    "# Contoh 2d list\n",
    "spam = [['halo', 'world'], [3.1415, 5.124], [True, True], [42, 3, 5]]\n",
    "spam"
   ]
  },
  {
   "attachments": {},
   "cell_type": "markdown",
   "metadata": {},
   "source": [
    "#### **1.1. Getting Individual Values in a List with Indexes**\n",
    "\n",
    "kita bisa menggunakan bilangan bulat sebagai indeks untuk mengakses item dalam list. Item pertama dalam list adalah indeks 0, item kedua indeks 1, item ketiga indeks 2, dan seterusnya. Perhatikan bahwa karena indeks pertama adalah 0, dan list hanya memiliki 5 item, maka indeks terakhir dari list adalah 4. Python akan memberi kita pesan kesalahan `IndexError` jika kita menggunakan indeks yang melebihi jumlah item, seperti `spam[5]`."
   ]
  },
  {
   "cell_type": "code",
   "execution_count": null,
   "metadata": {},
   "outputs": [],
   "source": [
    "# Contoh indexing dg bilangan positif\n",
    "spam = ['halo', 3.1415, True, None, 42]\n",
    "\n",
    "print(f'Item dengan indeks ke 0: {spam[0]}')\n",
    "print(f'Item dengan indeks ke 4: {spam[4]}')\n",
    "print(f'Item dengan indeks ke 5: {spam[5]}')"
   ]
  },
  {
   "attachments": {},
   "cell_type": "markdown",
   "metadata": {},
   "source": [
    "kita juga dapat menggunakan bilangan bulat negatif sebagai indeks. Nilai bilangan bulat -1 merujuk ke indeks terakhir dalam list, nilai -2 merujuk ke indeks kedua terakhir dalam list, dan seterusnya. "
   ]
  },
  {
   "cell_type": "code",
   "execution_count": null,
   "metadata": {},
   "outputs": [],
   "source": [
    "# Contoh indexing dg bilangan negatif\n",
    "spam = ['halo', 3.1415, True, None, 42]\n",
    "\n",
    "print(f'Item dengan indeks ke -1: {spam[-1]}')\n",
    "print(f'Item dengan indeks ke -3: {spam[-3]}')\n",
    "print(f'Item dengan indeks ke -5: {spam[-5]}')"
   ]
  },
  {
   "attachments": {},
   "cell_type": "markdown",
   "metadata": {},
   "source": [
    "Suatu list dapat berisi list lain, itu bisa diakses menggunakan beberapa indeks. Indeks pertama menentukan nilai list mana yang akan digunakan, dan indeks kedua menunjukkan item dalam nilai list."
   ]
  },
  {
   "cell_type": "code",
   "execution_count": null,
   "metadata": {},
   "outputs": [],
   "source": [
    "# Contoh indexing pada 2d list\n",
    "spam = [['tiger', 'cat'], [10, 20, 30, 40]]\n",
    "\n",
    "print(f'Item dengan indek pertama 0: {spam[0]}')\n",
    "print(f'Item dengan indek pertama 0 dan indeks kedua 1: {spam[0][1]}')\n",
    "print(f'Item dengan indek pertama 1 dan indeks kedua -1: {spam[1][-1]}')"
   ]
  },
  {
   "attachments": {},
   "cell_type": "markdown",
   "metadata": {},
   "source": [
    "#### **1.2. Getting a List from Another List with Slices**\n",
    "Mirip seperti indeks yang bisa mendapatkan satu item dari list, slice memungkinkan kita mendapatkan beberapa item dari list dan menjadikannya sebagai bentuk list yang baru. Sintaksis slice diketik di antara tanda kurung siku, seperti indeks, tetapi memiliki dua bilangan bulat yang dipisahkan oleh tanda titik dua. "
   ]
  },
  {
   "cell_type": "code",
   "execution_count": null,
   "metadata": {},
   "outputs": [],
   "source": [
    "# Contoh slicing pada list\n",
    "spam = ['halo', 3.1415, True, None, 42]\n",
    "\n",
    "print(f'Item di dalam indeks [1: -1]: {spam[1: -1]}')\n",
    "print(f'Item di dalam indeks [1: ]: {spam[1: ]}')\n",
    "print(f'Item di dalam indeks [:]: {spam[:]}')"
   ]
  },
  {
   "attachments": {},
   "cell_type": "markdown",
   "metadata": {},
   "source": [
    "#### **1.3. Changing Values in a List with Indexes**\n",
    "\n",
    "kita bisa menggunakan indeks untuk mengubah item pada indeks tersebut. Misalnya, `spam[1] = 'world'` berarti mengubah item pada indeks ke-1 dalam list spam menjadi string 'world'. Kode spam[2] = spam[3] berarti mengubah item pada indeks ke-2 menjadi item pada indeks ke-3, sehingga ada dua item yang sama."
   ]
  },
  {
   "cell_type": "code",
   "execution_count": null,
   "metadata": {},
   "outputs": [],
   "source": [
    "# Contoh mengubah item pada list\n",
    "spam = ['halo', 3.1415, True, None, 42]\n",
    "\n",
    "spam[1] = 'world'\n",
    "spam[2] = spam[3]\n",
    "spam"
   ]
  },
  {
   "attachments": {},
   "cell_type": "markdown",
   "metadata": {},
   "source": [
    "#### **1.4. Adding Values to Lists with the append() and insert() Methods**\n",
    "\n",
    "Menambahkan nilai baru ke dalam list, selain menggunakan teknik concatenation, kita bisa gunakan metode `append() dan insert()`. Meskipun dua metode ini mirip, namun kita akan bisa membedakkannya dengan mudah. \n",
    "\n",
    "* Metode `append()` menambahkan item ke bagian akhir list."
   ]
  },
  {
   "cell_type": "code",
   "execution_count": 2,
   "metadata": {},
   "outputs": [
    {
     "name": "stdout",
     "output_type": "stream",
     "text": [
      "Hasil sebelum: ['halo', 3.1415, True, None, 42]\n",
      "Hasil append(): ['halo', 3.1415, True, None, 42, 'world!']\n"
     ]
    }
   ],
   "source": [
    "spam = ['halo', 3.1415, True, None, 42]\n",
    "print(f'Hasil sebelum: {spam}')\n",
    "\n",
    "# Menambahkan item dengan metode append()\n",
    "spam.append('world!')\n",
    "print(f'Hasil append: {spam}')"
   ]
  },
  {
   "cell_type": "markdown",
   "metadata": {},
   "source": [
    "* Metode `insert()` dapat menambahkan item pada indeks mana pun dalam list. "
   ]
  },
  {
   "cell_type": "code",
   "execution_count": 3,
   "metadata": {},
   "outputs": [
    {
     "name": "stdout",
     "output_type": "stream",
     "text": [
      "Hasil insert(): ['halo', 3.1415, 'world!', True, None, 42, 'world!']\n"
     ]
    }
   ],
   "source": [
    "# Menambahkan item dengan metode insert()\n",
    "spam.insert(2, 'world!')\n",
    "print(f'Hasil insert: {spam}')"
   ]
  },
  {
   "attachments": {},
   "cell_type": "markdown",
   "metadata": {},
   "source": [
    "Perhatikan bahwa penulisan kode program yang benar adalah `spam.append('world!') dan spam.insert(2, 'world!')`, bukan `spam = spam.append('world!') dan spam = spam.insert(2, 'world!')`. Baik append()  maupun insert() keduanya tidak memberikan list baru sebagai nilai pengembaliannya, jadi kita pasti tidak dapat menyimpan ini dalam variabel baru, "
   ]
  },
  {
   "attachments": {},
   "cell_type": "markdown",
   "metadata": {},
   "source": [
    "#### **1.5. Removing Values from Lists**\n",
    "\n",
    "kita bisa mneghapus item dalam list dengan `del statements, pop() method, dan remove() method`. Perbedaan ketiganya yaitu:\n",
    "\n",
    "* `del` digunakan ketika kita mengetahui indeks item yang ingin kita hapus dari list. "
   ]
  },
  {
   "cell_type": "code",
   "execution_count": null,
   "metadata": {},
   "outputs": [],
   "source": [
    "# Menghapus item dengan del statements\n",
    "spam = ['halo', 3.1415, True, None, 42]\n",
    "print(f'Hasil sebelum dihapus: {spam}')\n",
    "\n",
    "del spam[0: 2]\n",
    "print(f'Hasil menghapus item dengan indeks ke-0 sd ke-1: {spam}')"
   ]
  },
  {
   "attachments": {},
   "cell_type": "markdown",
   "metadata": {},
   "source": [
    "* `remove()` berguna ketika kita mengetahui item yang ingin kita hapus dari list. \n",
    "\n",
    "    Jika item muncul beberapa kali dalam list (seperti bilangan bulat 42), hanya item pertama yang akan dihapus. Mencoba menghapus item yang tidak ada dalam list akan mengakibatkan kesalahan `ValueError`. "
   ]
  },
  {
   "cell_type": "code",
   "execution_count": null,
   "metadata": {},
   "outputs": [],
   "source": [
    "# Menghapus item dengan fungsi remove()\n",
    "spam = ['halo', 3.1415, 42, True, None, 42]\n",
    "print(f'Hasil sebelum dihapus: {spam}')\n",
    "\n",
    "spam.remove(42)\n",
    "print(f'Hasil sesudah dihapus: {spam}')"
   ]
  },
  {
   "attachments": {},
   "cell_type": "markdown",
   "metadata": {},
   "source": [
    "* `pop()` tepat kita gunakan ketika hanya mengetahui indeks item, dan ingin mengetahui item apa yang di hapus.\n",
    "\n",
    "    Berbeda dengan sebelumnya, kita bisa mengetiknya sebagai `spam = spam.pop(2)`. Ingatlah jika tidak menyertakan indeks dalam argumen, Python mengambil indeks bawaan -1 yaitu item terakhir dari list. Mencoba menghapus item di luar cakupan list, menyebabkan kesalahan `IndexError`. "
   ]
  },
  {
   "cell_type": "code",
   "execution_count": 8,
   "metadata": {},
   "outputs": [
    {
     "name": "stdout",
     "output_type": "stream",
     "text": [
      "Hasil sebelum: ['halo', 'world!', 3.1415, 19, True, 42, 'world!']\n",
      "Hasil sesudah: ['halo', 'world!', 19, True, 42, 'world!']\n"
     ]
    }
   ],
   "source": [
    "# Menghapus item dengan fungsi pop()\n",
    "spam = ['halo', 'world!', 3.1415, 19, True, 42, 'world!']\n",
    "print(f'Hasil sebelum: {spam}')\n",
    "\n",
    "spam.pop(2)\n",
    "print(f'Hasil sesudah: {spam}')"
   ]
  },
  {
   "attachments": {},
   "cell_type": "markdown",
   "metadata": {},
   "source": [
    "#### **1.6. Using for Loops with Lists**\n",
    "\n",
    "kita bisa menggunakan `range(len(spam))` pada kalang for untuk mengakses setiap indeks dari item dalam list."
   ]
  },
  {
   "cell_type": "code",
   "execution_count": null,
   "metadata": {},
   "outputs": [],
   "source": [
    "spam = ['halo', 3.1415, True, None, 42]\n",
    "for i in spam:\n",
    "    print(i)"
   ]
  },
  {
   "cell_type": "code",
   "execution_count": null,
   "metadata": {},
   "outputs": [],
   "source": [
    "spam = ['halo', 3.1415, True, None, 42]\n",
    "\n",
    "for i in range(len(spam)):\n",
    "    print(f'Index {i} in spam is: {spam[i]}')"
   ]
  },
  {
   "attachments": {},
   "cell_type": "markdown",
   "metadata": {},
   "source": [
    "Alih-alih menggunakan teknik `range(len(spam))` pada kalang for untuk mendapatkan indeks bilangan bulat dari item dalam list, kita dapat memanggil fungsi `enumerate()` sebagai gantinya. Untuk setiap iterasi kalang, **enumerate() akan mengembalikan dua nilai yaitu indeks item dalam list, dan item dalam list itu sendiri**. Fungsi enumerate() berguna jika kita memerlukan item dan indeks nya di dalam kalang. "
   ]
  },
  {
   "cell_type": "code",
   "execution_count": null,
   "metadata": {},
   "outputs": [],
   "source": [
    "spam = ['halo', 3.1415, True, None, 42]\n",
    "\n",
    "for i, item in enumerate(spam):\n",
    "    print(f'Index {i} in spam is: {item}')"
   ]
  },
  {
   "attachments": {},
   "cell_type": "markdown",
   "metadata": {},
   "source": [
    "#### **1.7. The in and not in Operators**\n",
    "\n",
    "kita dapat menentukan apakah suatu nilai ada atau tidak ada dalam list dengan operator `in dan not in`. Serupa operator lainnya, in dan not in digunakan dalam ekspresi dan menghubungkan dua nilai, yaitu nilai yang dicari dalam daftar dan daftar di mana nilai tersebut dapat ditemukan. **Ekspresi ini akan menghasilkan nilai Boolean.**"
   ]
  },
  {
   "cell_type": "code",
   "execution_count": null,
   "metadata": {},
   "outputs": [],
   "source": [
    "spam = ['halo', 3.1415, True, None, 42]\n",
    "\n",
    "print(f'Apakah 54 ada di dalam list ?: {54 in spam}')\n",
    "print(f'Apakah cat tidak ada di dalam list ?: {\"cat\" not in spam}')"
   ]
  },
  {
   "attachments": {},
   "cell_type": "markdown",
   "metadata": {},
   "source": [
    "#### **1.8 Getting a List’s Length with the len() Function**\n",
    "\n",
    "Fungsi `len()` akan mengembalikan panjang list atau jumlah item yang ada dalam list, serupa dengan fungsi menghitung jumlah karakter dalam string. "
   ]
  },
  {
   "cell_type": "code",
   "execution_count": null,
   "metadata": {},
   "outputs": [],
   "source": [
    "spam = ['halo', 3.1415, True, None, 42]\n",
    "print(f'Panjang dari list spam adalah {len(spam)}')"
   ]
  },
  {
   "attachments": {},
   "cell_type": "markdown",
   "metadata": {},
   "source": [
    "#### **1.9 Duplicating Values from Lists with copy() Methods**\n",
    "\n",
    "Menyimpan list dalam variabel baru dapat menggunakan operator sama dengan, namun ada satu masalah dengan cara ini. Saat kita memodifikasi nilai list baru, maka nilai list asli juga ikut termodifikasi. Hal itu terjadi karena nilai list baru merujuk ke objek nilai list yang sama. Jika kita memerlukan nilai list asli tidak berubah saat nilai list baru diubah, kita dapat menggunakan metode `copy()`. "
   ]
  },
  {
   "cell_type": "code",
   "execution_count": null,
   "metadata": {},
   "outputs": [],
   "source": [
    "# Tanpa metode copy()\n",
    "spam = [1, 2, 3]\n",
    "print(f'List sebelum: {spam}')\n",
    "\n",
    "newSpam = spam\n",
    "newSpam.append('a')\n",
    "print(f'List sesudah: {spam}')"
   ]
  },
  {
   "cell_type": "code",
   "execution_count": null,
   "metadata": {},
   "outputs": [],
   "source": [
    "# Menggunakan metode copy()\n",
    "spam = [1, 2, 3]\n",
    "print(f'List sebelum: {spam}')\n",
    "\n",
    "newSpam = spam.copy()\n",
    "newSpam.append('a')\n",
    "print(f'List sesudah: {spam}')"
   ]
  },
  {
   "attachments": {},
   "cell_type": "markdown",
   "metadata": {},
   "source": [
    "#### **1.10 List Concatenation and Replication**\n",
    "List dapat digabungkan dan direplikasi seperti tipe data string. Operator addition (+) menggabungkan dua list, dan operator multiplication (*) mereplikasi list sejumlah nilai bilangan bulat sebagai pengalih. "
   ]
  },
  {
   "cell_type": "code",
   "execution_count": null,
   "metadata": {},
   "outputs": [],
   "source": [
    "spam = [19, 29, 39]\n",
    "spam += ['X', 'Y', 'Z']\n",
    "print(f'Hasil dari concatenation {spam}')\n",
    "\n",
    "spam = ['X', 'Y', 'Z']\n",
    "spam *= 3\n",
    "print(f'Hasil dari replication {spam}')"
   ]
  },
  {
   "attachments": {},
   "cell_type": "markdown",
   "metadata": {},
   "source": [
    "#### **1.11 Finding a Value in a List with the index() Methods**\n",
    "\n",
    "List memiliki metode `index()` yang dapat memberikan kita item, dan jika item itu ada di dalam list, Python juga memberikan indeksnya. Jika item tidak ada dalam list, maka Python menghasilkan kesalahan `ValueError`. "
   ]
  },
  {
   "cell_type": "code",
   "execution_count": null,
   "metadata": {},
   "outputs": [],
   "source": [
    "spam = [1, 3.1415, 2, [3, 42], 10]\n",
    "\n",
    "print(f'Indeks dari item 42: {spam.index(42)}')\n",
    "print(f'Indeks dari item 3.14115: {spam.index(3.1415)}')\n",
    "print(f'Indeks dari item HALO: {spam.index(\"HALO\")}')"
   ]
  },
  {
   "attachments": {},
   "cell_type": "markdown",
   "metadata": {},
   "source": [
    "Perhatikan pada baris kode `spam.index(3.1415)`, Python mengembalikan nilai indeks 1, bukan 3, **artinya ketika ada item yang duplikat, indeks dari item pertama (sesuai urutan) yang akan dikembalikan**."
   ]
  },
  {
   "attachments": {},
   "cell_type": "markdown",
   "metadata": {},
   "source": [
    "#### **1.12 Sorting the Values in a List with the sort() Methods**\n",
    "List berisi item string atau bilangan desimal bisa kita urutkan dengan metode `sort()`. Ada tiga hal yang harus kita perhatikan tentang metode ini yaitu: \n",
    "\n",
    "* Metode sort() mengurutkan list pada list aslinya, jangan mencoba menyimpan keluaran sebagai variabel baru.\n",
    "\n",
    "* Metode sort() menggunakan urutan ASCIIbetical daripada urutan abjad yang sebenarnya untuk menyortir string. Ini berarti huruf besar lebih awal diurutkan sebelum huruf kecil, seperti huruf kecil a muncul setelah huruf Z kapital.\n",
    "\n",
    "* kita tidak dapat mengurutkan daftar yang memiliki nilai angka dan nilai string bersamaan di dalamnya."
   ]
  },
  {
   "cell_type": "code",
   "execution_count": null,
   "metadata": {},
   "outputs": [],
   "source": [
    "# Klausul pertama\n",
    "spam = ['jhon', 'baron', 'kenny', 'antonie']\n",
    "spam.sort()\n",
    "print(f'Aturan pertama: {spam}')\n",
    "\n",
    "# Klausul kedua\n",
    "spam = ['a', 'B', 'y', 'X']\n",
    "spam.sort()\n",
    "print(f'Aturan kedua: {spam}')\n",
    "\n",
    "# Klausul ketiga\n",
    "spam = [2, 5, -7, 3.14, 'jhon', 'baron']\n",
    "spam.sort()\n",
    "spam"
   ]
  },
  {
   "attachments": {},
   "cell_type": "markdown",
   "metadata": {},
   "source": [
    "#### **1.13 Reversing the Values in a List with the reverse() Methods**\n",
    "\n",
    "Jika kita perlu membalikkan urutan item dalam list dengan cepat, kita dapat memanggil metode `reverse()`. **Perhatikan bahwa metode ini tidak memperhatikan urutan ASCIIbetical**."
   ]
  },
  {
   "cell_type": "code",
   "execution_count": null,
   "metadata": {},
   "outputs": [],
   "source": [
    "spam = ['a', 'A', 'B', 'Y', 'X']\n",
    "print(f'Hasil sebelum: {spam}')\n",
    "\n",
    "spam.reverse()\n",
    "print(f'Hasil sesudah: {spam}')"
   ]
  },
  {
   "attachments": {},
   "cell_type": "markdown",
   "metadata": {},
   "source": [
    "## `2. Tuple Data Type`\n",
    "\n",
    "Tipe data tuple hampir identik dengan tipe data list, kecuali dalam tiga hal yaitu:\n",
    "* **Pertama**, sintaksis tupel diketik dengan tanda kurung, bukan tanda kurung siku.\n",
    "\n",
    "* **Kedua**, tupel tidak seperti string, item di dalam tuple tidak dapat diubah, ditambahkan, atau dihapus, kita hanya diperbolehkan mengakses item dengan teknik pengindeksan.\n",
    "\n",
    "* **Ketiga**, jika kita hanya memiliki satu item dalam tuple, kita harus menempatkan tanda koma setelahnya di dalam tanda kurung. "
   ]
  },
  {
   "cell_type": "code",
   "execution_count": null,
   "metadata": {},
   "outputs": [],
   "source": [
    "# Klausul pertama\n",
    "spamList = ['halo', 3.1415, True, None, 42]\n",
    "spamTuple = ('halo', 3.1415, True, None, 42)\n",
    "\n",
    "print(f'Ini adalah list {spamList} {type(spamList)}')\n",
    "print(f'Ini adalah tuple {spamTuple} {type(spamTuple)}')"
   ]
  },
  {
   "cell_type": "code",
   "execution_count": null,
   "metadata": {},
   "outputs": [],
   "source": [
    "# Klausul kedua\n",
    "spam = ('halo', 3.1415, True, None, 42)\n",
    "print(f'Item di dalam indeks [0: 3] adalah {spam[0: 3]}')\n",
    "print(f'Panjang dari list spam adalah {len(spam)}')\n",
    "print(f'Indeks dari item 42 adalah {spam.index(42)}')\n",
    "\n",
    "spam = (('tiger', 'cat'), (10, 20, 30, 40))\n",
    "print(f'Item dengan indek pertama 0 adalah {spam[0]}')\n",
    "print(f'Item dengan indek pertama 0 dan indeks kedua 1 adalah {spam[0][1]}')\n",
    "\n",
    "spam = (19, 29, 39)\n",
    "spam += ('X', 'Y', 'Z')\n",
    "print(f'Hasil dari concatenation {spam}')\n",
    "\n",
    "spam = ('X', 'Y', 'Z')\n",
    "spam *= 3\n",
    "print(f'Hasil dari replication {spam}')"
   ]
  },
  {
   "cell_type": "code",
   "execution_count": null,
   "metadata": {},
   "outputs": [],
   "source": [
    "# Tidak diperkenankan memanipulasi item\n",
    "spam = ('halo', 3.1415, True, None, 42)\n",
    "spam[1] = 'halo'"
   ]
  },
  {
   "cell_type": "code",
   "execution_count": null,
   "metadata": {},
   "outputs": [],
   "source": [
    "# Klausul ketiga\n",
    "print(type(('hello',)))\n",
    "print(type(('hello')))"
   ]
  },
  {
   "attachments": {},
   "cell_type": "markdown",
   "metadata": {},
   "source": [
    "**Tupel bermanfaat ketika kita ingin menyampaikan kepada siapa pun, bahwa kita tidak bermaksud mengubah item di dalamnya**. Manfaat kedua menggunakan tupel daripada list adalah, karena tidak dapat diubah dan isinya tidak berubah, Python akan menerapkan beberapa pengoptimalan yang membuat eksekusi kode program sedikit lebih cepat."
   ]
  },
  {
   "attachments": {},
   "cell_type": "markdown",
   "metadata": {},
   "source": [
    "#### **2.1 Converting Types with the list() and tuple() Functions**\n",
    "\n",
    "Serupa dengan bagaimana fungsi `str(42)` mengembalikan '42' sebagai representasi string dari bilangan bulat 42, maka fungsi `list() dan tuple()` akan mengembalikan versi list dan tuple dari nilai yang direpresentasikan"
   ]
  },
  {
   "cell_type": "code",
   "execution_count": null,
   "metadata": {},
   "outputs": [],
   "source": [
    "spamTuple = tuple(['cat', 'dog', 5])\n",
    "spamList = list(('cat', 'dog', 5))\n",
    "\n",
    "print(f'Ini adalah list {spamList} {type(spamList)}')\n",
    "print(f'Ini adalah tuple {spamTuple} {type(spamTuple)}')"
   ]
  },
  {
   "attachments": {},
   "cell_type": "markdown",
   "metadata": {},
   "source": [
    "Jika kita ingin memanipulasi tuple, kita memerlukan untuk mengonversinya ke list terlebih dulu."
   ]
  }
 ],
 "metadata": {
  "kernelspec": {
   "display_name": "Python 3",
   "language": "python",
   "name": "python3"
  },
  "language_info": {
   "codemirror_mode": {
    "name": "ipython",
    "version": 3
   },
   "file_extension": ".py",
   "mimetype": "text/x-python",
   "name": "python",
   "nbconvert_exporter": "python",
   "pygments_lexer": "ipython3",
   "version": "3.9.16"
  },
  "orig_nbformat": 4,
  "vscode": {
   "interpreter": {
    "hash": "31f2aee4e71d21fbe5cf8b01ff0e069b9275f58929596ceb00d14d90e3e16cd6"
   }
  }
 },
 "nbformat": 4,
 "nbformat_minor": 2
}

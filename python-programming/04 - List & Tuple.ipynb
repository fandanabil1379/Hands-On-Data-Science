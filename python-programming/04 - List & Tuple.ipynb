{
 "cells": [
  {
   "attachments": {},
   "cell_type": "markdown",
   "metadata": {},
   "source": [
    " <p style='text-align: right;'> <span style='color:Blue'> Created by: Shafanda nabil sembodo </p> </span>\n",
    "\n",
    " <h1><p style='text-align: center; font-weight: bold;'> Introduction to List & Tuple </p></h1>\n",
    "\n",
    "\n",
    "Satu topik lagi yang perlu Anda pahami adalah tipe data list dan sepupunya, tuple. List dan tuple dapat berisi banyak nilai, yang membuat penulisan program yang menangani data dalam jumlah besar menjadi lebih mudah, dan dapat menggunakannya untuk mengatur data ke dalam struktur hirarki.\n",
    "Pada bab ini, kami akan membahas dasar-dasar list & tuple. Kami juga akan mengajarkan Anda tentang metode, yang merupakan fungsi yang terkait dengan tipe data tersebut. \n",
    "___"
   ]
  },
  {
   "attachments": {},
   "cell_type": "markdown",
   "metadata": {},
   "source": [
    "## `1. List Data Type`\n",
    "\n",
    "**List termasuk tipe data yang dapat menampung banyak nilai, dengan jenis yang berbeda, dan dalam urutan yang terurut**. Nilai di dalam list disebut item, masing-masing item dipisahkan dengan koma. Mirip seperti string yang diketik di antara karakter kutipan, sintaksis list dimulai dengan tanda kurung siku buka dan diakhiri dengan tanda kurung siku tutup. "
   ]
  },
  {
   "cell_type": "code",
   "execution_count": null,
   "metadata": {},
   "outputs": [],
   "source": [
    "# Contoh cara membuat list\n",
    "spam = ['halo', 3.1415, True, None, 42]\n",
    "spam"
   ]
  },
  {
   "attachments": {},
   "cell_type": "markdown",
   "metadata": {},
   "source": [
    "**List bisa menampung tipe data list lainnya, disebut nested list**. Tidak hanya satu tingkat, melainkan lebih dari itu, membentuk hirarki yang kompleks. "
   ]
  },
  {
   "cell_type": "code",
   "execution_count": null,
   "metadata": {},
   "outputs": [],
   "source": [
    "# Contoh 2d list\n",
    "spam = [['halo', 'world'], [3.1415, 5.124], [True, True], [42, 3, 5]]\n",
    "spam"
   ]
  },
  {
   "attachments": {},
   "cell_type": "markdown",
   "metadata": {},
   "source": [
    "#### **1.1 Getting Individual Values in a List with Indexes**\n",
    "\n",
    "Anda bisa menggunakan **bilangan bulat sebagai indeks untuk mengakses item dalam list**. Item pertama dalam list adalah indeks 0, item kedua indeks 1, item ketiga indeks 2, dan seterusnya. Perhatikan bahwa karena indeks pertama adalah 0, dan list hanya memiliki 5 item, maka indeks terakhir dari list adalah 4. Python akan memberi Anda pesan kesalahan `IndexError` jika Anda menggunakan indeks yang melebihi jumlah item, seperti `spam[5]`."
   ]
  },
  {
   "cell_type": "code",
   "execution_count": 1,
   "metadata": {},
   "outputs": [
    {
     "name": "stdout",
     "output_type": "stream",
     "text": [
      "Item dengan indeks ke 0: halo\n",
      "Item dengan indeks ke 4: 42\n"
     ]
    },
    {
     "ename": "IndexError",
     "evalue": "list index out of range",
     "output_type": "error",
     "traceback": [
      "\u001b[0;31m---------------------------------------------------------------------------\u001b[0m",
      "\u001b[0;31mIndexError\u001b[0m                                Traceback (most recent call last)",
      "\u001b[0;32m/var/folders/vh/81ldn_315vdf1b2_lnntkb080000gn/T/ipykernel_12105/3504721378.py\u001b[0m in \u001b[0;36m<cell line: 6>\u001b[0;34m()\u001b[0m\n\u001b[1;32m      4\u001b[0m \u001b[0mprint\u001b[0m\u001b[0;34m(\u001b[0m\u001b[0;34mf'Item dengan indeks ke 0: {spam[0]}'\u001b[0m\u001b[0;34m)\u001b[0m\u001b[0;34m\u001b[0m\u001b[0;34m\u001b[0m\u001b[0m\n\u001b[1;32m      5\u001b[0m \u001b[0mprint\u001b[0m\u001b[0;34m(\u001b[0m\u001b[0;34mf'Item dengan indeks ke 4: {spam[4]}'\u001b[0m\u001b[0;34m)\u001b[0m\u001b[0;34m\u001b[0m\u001b[0;34m\u001b[0m\u001b[0m\n\u001b[0;32m----> 6\u001b[0;31m \u001b[0mprint\u001b[0m\u001b[0;34m(\u001b[0m\u001b[0;34mf'Item dengan indeks ke 5: {spam[5]}'\u001b[0m\u001b[0;34m)\u001b[0m\u001b[0;34m\u001b[0m\u001b[0;34m\u001b[0m\u001b[0m\n\u001b[0m",
      "\u001b[0;31mIndexError\u001b[0m: list index out of range"
     ]
    }
   ],
   "source": [
    "# Contoh indexing dg bilangan positif\n",
    "spam = ['halo', 3.1415, True, None, 42]\n",
    "\n",
    "print(f'Item dengan indeks ke 0: {spam[0]}')\n",
    "print(f'Item dengan indeks ke 4: {spam[4]}')\n",
    "print(f'Item dengan indeks ke 5: {spam[5]}')"
   ]
  },
  {
   "attachments": {},
   "cell_type": "markdown",
   "metadata": {},
   "source": [
    "Anda juga dapat menggunakan **bilangan bulat negatif sebagai indeks**. Nilai bilangan bulat -1 merujuk ke indeks terakhir dalam list, nilai -2 merujuk ke indeks kedua terakhir dalam list, dan seterusnya. "
   ]
  },
  {
   "cell_type": "code",
   "execution_count": 2,
   "metadata": {},
   "outputs": [
    {
     "name": "stdout",
     "output_type": "stream",
     "text": [
      "Item dengan indeks ke -1: 42\n",
      "Item dengan indeks ke -3: True\n",
      "Item dengan indeks ke -5: halo\n"
     ]
    }
   ],
   "source": [
    "# Contoh indexing dg bilangan negatif\n",
    "spam = ['halo', 3.1415, True, None, 42]\n",
    "\n",
    "print(f'Item dengan indeks ke -1: {spam[-1]}')\n",
    "print(f'Item dengan indeks ke -3: {spam[-3]}')\n",
    "print(f'Item dengan indeks ke -5: {spam[-5]}')"
   ]
  },
  {
   "attachments": {},
   "cell_type": "markdown",
   "metadata": {},
   "source": [
    "Suatu list dapat berisi list lain, itu bisa diakses menggunakan beberapa indeks. Indeks pertama menentukan nilai list mana yang akan digunakan, dan indeks kedua menunjukkan item dalam nilai list."
   ]
  },
  {
   "cell_type": "code",
   "execution_count": 3,
   "metadata": {},
   "outputs": [
    {
     "name": "stdout",
     "output_type": "stream",
     "text": [
      "Item dengan indek pertama 0: ['tiger', 'cat']\n",
      "Item dengan indek pertama 0 dan indeks kedua 1: cat\n",
      "Item dengan indek pertama 1 dan indeks kedua -1: 40\n"
     ]
    }
   ],
   "source": [
    "# Contoh indexing pada 2d list\n",
    "spam = [['tiger', 'cat'], [10, 20, 30, 40]]\n",
    "\n",
    "print(f'Item dengan indek pertama 0: {spam[0]}')\n",
    "print(f'Item dengan indek pertama 0 dan indeks kedua 1: {spam[0][1]}')\n",
    "print(f'Item dengan indek pertama 1 dan indeks kedua -1: {spam[1][-1]}')"
   ]
  },
  {
   "attachments": {},
   "cell_type": "markdown",
   "metadata": {},
   "source": [
    "#### **1.2 Getting a List from Another List with Slices**\n",
    "Mirip seperti indeks yang bisa mendapatkan satu item dari list, slice memungkinkan Anda mendapatkan beberapa item dari list dan menjadikannya sebagai bentuk list yang baru. Sintaksis slice diketik di antara tanda kurung siku, seperti indeks, tetapi memiliki dua bilangan bulat yang dipisahkan oleh tanda titik dua. "
   ]
  },
  {
   "cell_type": "code",
   "execution_count": 4,
   "metadata": {},
   "outputs": [
    {
     "name": "stdout",
     "output_type": "stream",
     "text": [
      "Item di dalam indeks [0: 3]: ['halo', 3.1415, True]\n",
      "Item di dalam indeks [1: -1]: [3.1415, True, None]\n",
      "Item di dalam indeks [: 2]: ['halo', 3.1415]\n",
      "Item di dalam indeks [1: ]: [3.1415, True, None, 42]\n",
      "Item di dalam indeks [:]: ['halo', 3.1415, True, None, 42]\n"
     ]
    }
   ],
   "source": [
    "# Contoh slicing pada list\n",
    "spam = ['halo', 3.1415, True, None, 42]\n",
    "\n",
    "print(f'Item di dalam indeks [0: 3]: {spam[0: 3]}')\n",
    "print(f'Item di dalam indeks [1: -1]: {spam[1: -1]}')\n",
    "print(f'Item di dalam indeks [: 2]: {spam[: 2]}')\n",
    "print(f'Item di dalam indeks [1: ]: {spam[1: ]}')\n",
    "print(f'Item di dalam indeks [:]: {spam[:]}')"
   ]
  },
  {
   "attachments": {},
   "cell_type": "markdown",
   "metadata": {},
   "source": [
    "#### **1.3 Changing Values in a List with Indexes**\n",
    "\n",
    "Anda bisa menggunakan indeks untuk mengubah item pada indeks tersebut. Misalnya, `spam[1] = 'world'` berarti mengubah item pada indeks ke-1 dalam list spam menjadi string 'world'. Kode spam[2] = spam[3] berarti mengubah item pada indeks ke-2 menjadi item pada indeks ke-3, sehingga ada dua item yang sama."
   ]
  },
  {
   "cell_type": "code",
   "execution_count": 7,
   "metadata": {},
   "outputs": [
    {
     "data": {
      "text/plain": [
       "['halo', 'Baron', 249, 76, None, 42]"
      ]
     },
     "execution_count": 7,
     "metadata": {},
     "output_type": "execute_result"
    }
   ],
   "source": [
    "# Contoh mengubah item pada list\n",
    "spam = ['halo', 3.1415, True, None, 42]\n",
    "spam[1] = 'world'\n",
    "spam[2] = spam[3]\n",
    "spam[-1] = 12345\n",
    "spam[1: 3] = ['Baron', 249]\n",
    "spam"
   ]
  },
  {
   "attachments": {},
   "cell_type": "markdown",
   "metadata": {},
   "source": [
    "#### **1.4 Adding Values to Lists with the append() and insert() Methods**\n",
    "\n",
    "Menambahkan nilai baru ke dalam list, selain menggunakan teknik concatenation, Anda bisa gunakan metode `append() dan insert()`. Meskipun dua metode ini mirip, namun Anda akan bisa membedakkannya dengan mudah. \n",
    "\n",
    "* Metode `append()` menambahkan item ke bagian akhir list.\n",
    "\n",
    "* Metode `insert()` dapat menambahkan item pada indeks mana pun dalam list. "
   ]
  },
  {
   "cell_type": "code",
   "execution_count": 11,
   "metadata": {},
   "outputs": [
    {
     "name": "stdout",
     "output_type": "stream",
     "text": [
      "Hasil sebelum: ['halo', 3.1415, True, None, 42]\n",
      "Hasil append(): ['halo', 3.1415, True, None, 42, 'world!']\n",
      "Hasil insert(): ['halo', 3.1415, 'world!', True, None, 42, 'world!']\n"
     ]
    }
   ],
   "source": [
    "spam = ['halo', 3.1415, True, None, 42]\n",
    "print(f'Hasil sebelum: {spam}')\n",
    "\n",
    "# Menambahkan item dengan fungsi append()\n",
    "spam.append('world!')\n",
    "print(f'Hasil append(): {spam}')\n",
    "\n",
    "# Menambahkan item dengan fungsi insert()\n",
    "spam.insert(2, 'world!')\n",
    "print(f'Hasil insert(): {spam}')"
   ]
  },
  {
   "attachments": {},
   "cell_type": "markdown",
   "metadata": {},
   "source": [
    "Perhatikan bahwa penulisan kode program yang benar adalah `spam.append('world!') dan spam.insert(2, 'world!')`, **bukan** `spam = spam.append('world!') dan spam = spam.insert(2, 'world!')`. Baik append()  maupun insert() keduanya tidak memberikan list baru sebagai nilai pengembaliannya, jadi Anda pasti tidak dapat menyimpan ini dalam variabel baru, "
   ]
  },
  {
   "attachments": {},
   "cell_type": "markdown",
   "metadata": {},
   "source": [
    "#### **1.5 Removing Values from Lists**\n",
    "\n",
    "Anda bisa mneghapus item dalam list dengan `del statements, fungsi pop(), fungsi remove()`. Perbedaan ketiganya yaitu:\n",
    "\n",
    "* `del` digunakan ketika Anda mengetahui indeks item yang ingin Anda hapus dari list. \n",
    "\n",
    "* `remove()` berguna ketika Anda mengetahui item yang ingin Anda hapus dari list. \n",
    "\n",
    "* `pop()` tepat Anda gunakan ketika hanya mengetahui indeks item, dan ingin mengetahui item apa yang di hapus."
   ]
  },
  {
   "cell_type": "code",
   "execution_count": 12,
   "metadata": {},
   "outputs": [
    {
     "name": "stdout",
     "output_type": "stream",
     "text": [
      "Hasil sebelum dihapus: ['halo', 3.1415, True, None, 42]\n",
      "Hasil menghapus item dengan indeks ke-2: ['halo', 3.1415, None, 42]\n",
      "Hasil menghapus item dengan indeks ke-0 sd ke-1: [None, 42]\n"
     ]
    }
   ],
   "source": [
    "# Menghapus item dengan del statements\n",
    "spam = ['halo', 3.1415, True, None, 42]\n",
    "print(f'Hasil sebelum dihapus: {spam}')\n",
    "\n",
    "del spam[2]\n",
    "print(f'Hasil menghapus item dengan indeks ke-2: {spam}')\n",
    "\n",
    "del spam[0: 2]\n",
    "print(f'Hasil menghapus item dengan indeks ke-0 sd ke-1: {spam}')"
   ]
  },
  {
   "attachments": {},
   "cell_type": "markdown",
   "metadata": {},
   "source": [
    "Metode remove() mengeluarkan item dari list. Mencoba menghapus item yang tidak ada dalam list akan mengakibatkan kesalahan `ValueError`. **Jika item muncul beberapa kali dalam list (seperti bilangan bulat 42), hanya item pertama yang akan dihapus**. "
   ]
  },
  {
   "cell_type": "code",
   "execution_count": 13,
   "metadata": {},
   "outputs": [
    {
     "name": "stdout",
     "output_type": "stream",
     "text": [
      "Hasil sebelum dihapus: ['halo', 3.1415, 42, True, None, 42]\n",
      "Hasil sesudah dihapus: ['halo', 3.1415, True, None, 42]\n"
     ]
    },
    {
     "ename": "ValueError",
     "evalue": "list.remove(x): x not in list",
     "output_type": "error",
     "traceback": [
      "\u001b[0;31m---------------------------------------------------------------------------\u001b[0m",
      "\u001b[0;31mValueError\u001b[0m                                Traceback (most recent call last)",
      "\u001b[0;32m/var/folders/vh/81ldn_315vdf1b2_lnntkb080000gn/T/ipykernel_12105/1593059067.py\u001b[0m in \u001b[0;36m<cell line: 8>\u001b[0;34m()\u001b[0m\n\u001b[1;32m      6\u001b[0m \u001b[0mprint\u001b[0m\u001b[0;34m(\u001b[0m\u001b[0;34mf'Hasil sesudah dihapus: {spam}'\u001b[0m\u001b[0;34m)\u001b[0m\u001b[0;34m\u001b[0m\u001b[0;34m\u001b[0m\u001b[0m\n\u001b[1;32m      7\u001b[0m \u001b[0;34m\u001b[0m\u001b[0m\n\u001b[0;32m----> 8\u001b[0;31m \u001b[0mspam\u001b[0m\u001b[0;34m.\u001b[0m\u001b[0mremove\u001b[0m\u001b[0;34m(\u001b[0m\u001b[0;34m'world!'\u001b[0m\u001b[0;34m)\u001b[0m\u001b[0;34m\u001b[0m\u001b[0;34m\u001b[0m\u001b[0m\n\u001b[0m\u001b[1;32m      9\u001b[0m \u001b[0mprint\u001b[0m\u001b[0;34m(\u001b[0m\u001b[0;34mf'Hasil menghapus item world!: {spam}'\u001b[0m\u001b[0;34m)\u001b[0m\u001b[0;34m\u001b[0m\u001b[0;34m\u001b[0m\u001b[0m\n",
      "\u001b[0;31mValueError\u001b[0m: list.remove(x): x not in list"
     ]
    }
   ],
   "source": [
    "# Menghapus item dengan fungsi remove()\n",
    "spam = ['halo', 3.1415, 42, True, None, 42]\n",
    "print(f'Hasil sebelum dihapus: {spam}')\n",
    "\n",
    "spam.remove(42)\n",
    "print(f'Hasil sesudah dihapus: {spam}')\n",
    "\n",
    "spam.remove('world!')\n",
    "print(f'Hasil menghapus item world!: {spam}')"
   ]
  },
  {
   "attachments": {},
   "cell_type": "markdown",
   "metadata": {},
   "source": [
    "Metode pop() mengeluarkan item pada indeks tertentu dari list, dan mengembalikan item apa yang dihapus. Berbeda dengan sebelumnya, Anda bisa mengetiknya sebagai `spam = spam.pop(2)`. **Ingatlah jika tidak menyertakan indeks dalam argumen, Python mengambil indeks bawaan -1 yaitu item terakhir dari list**. Mencoba menghapus item di luar cakupan list, menyebabkan kesalahan `IndexError`. "
   ]
  },
  {
   "cell_type": "code",
   "execution_count": 20,
   "metadata": {},
   "outputs": [
    {
     "name": "stdout",
     "output_type": "stream",
     "text": [
      "Hasil sebelum: ['halo', 'world!', 3.1415, 19, True, 42, 'world!']\n",
      "Hasil sesudah: ['halo', 'world!', 3.1415, 19, True, 42]\n",
      "Item yang dihapus: world!\n"
     ]
    }
   ],
   "source": [
    "# Menghapus item dengan fungsi pop()\n",
    "spam = ['halo', 'world!', 3.1415, 19, True, 42, 'world!']\n",
    "print(f'Hasil sebelum: {spam}')\n",
    "\n",
    "spam2 = spam.pop()\n",
    "print(f'Hasil sesudah: {spam}')\n",
    "print(f'Item yang dihapus: {spam2}')"
   ]
  },
  {
   "attachments": {},
   "cell_type": "markdown",
   "metadata": {},
   "source": [
    "#### **1.6 Using for Loops with Lists**\n",
    "\n",
    "Anda bisa menggunakan `range(len(spam))` pada kalang for untuk mengakses setiap indeks dari item dalam list."
   ]
  },
  {
   "cell_type": "code",
   "execution_count": 38,
   "metadata": {},
   "outputs": [
    {
     "name": "stdout",
     "output_type": "stream",
     "text": [
      "halo\n",
      "3.1415\n",
      "True\n",
      "None\n",
      "42\n"
     ]
    }
   ],
   "source": [
    "spam = ['halo', 3.1415, True, None, 42]\n",
    "for i in spam:\n",
    "    print(i)"
   ]
  },
  {
   "cell_type": "code",
   "execution_count": 39,
   "metadata": {},
   "outputs": [
    {
     "name": "stdout",
     "output_type": "stream",
     "text": [
      "Index 0 in spam is: halo\n",
      "Index 1 in spam is: 3.1415\n",
      "Index 2 in spam is: True\n",
      "Index 3 in spam is: None\n",
      "Index 4 in spam is: 42\n"
     ]
    }
   ],
   "source": [
    "spam = ['halo', 3.1415, True, None, 42]\n",
    "\n",
    "for i in range(len(spam)):\n",
    "    print(f'Index {i} in spam is: {spam[i]}')"
   ]
  },
  {
   "attachments": {},
   "cell_type": "markdown",
   "metadata": {},
   "source": [
    "Alih-alih menggunakan teknik `range(len(spam))` pada kalang for untuk mendapatkan indeks bilangan bulat dari item dalam list, Anda dapat memanggil fungsi `enumerate()` sebagai gantinya. Untuk setiap iterasi kalang, **enumerate() akan mengembalikan dua nilai yaitu indeks item dalam list, dan item dalam list itu sendiri**. Fungsi enumerate() berguna jika Anda memerlukan item dan indeks nya di dalam kalang. "
   ]
  },
  {
   "cell_type": "code",
   "execution_count": 40,
   "metadata": {},
   "outputs": [
    {
     "name": "stdout",
     "output_type": "stream",
     "text": [
      "Index 0 in spam is: halo\n",
      "Index 1 in spam is: 3.1415\n",
      "Index 2 in spam is: True\n",
      "Index 3 in spam is: None\n",
      "Index 4 in spam is: 42\n"
     ]
    }
   ],
   "source": [
    "spam = ['halo', 3.1415, True, None, 42]\n",
    "\n",
    "for i, item in enumerate(spam):\n",
    "    print(f'Index {i} in spam is: {item}')"
   ]
  },
  {
   "attachments": {},
   "cell_type": "markdown",
   "metadata": {},
   "source": [
    "#### **1.7 The in and not in Operators**\n",
    "\n",
    "Anda dapat menentukan apakah suatu nilai ada atau tidak ada dalam list dengan operator `in dan not in`. Serupa operator lainnya, in dan not in digunakan dalam ekspresi dan menghubungkan dua nilai, yaitu nilai yang dicari dalam daftar dan daftar di mana nilai tersebut dapat ditemukan. **Ekspresi ini akan menghasilkan nilai Boolean.**"
   ]
  },
  {
   "cell_type": "code",
   "execution_count": null,
   "metadata": {},
   "outputs": [],
   "source": [
    "spam = ['halo', 3.1415, True, None, 42]\n",
    "\n",
    "print(f'Apakah 54 ada di dalam list ?: {54 in spam}')\n",
    "print(f'Apakah cat tidak ada di dalam list ?: {\"cat\" not in spam}')"
   ]
  },
  {
   "attachments": {},
   "cell_type": "markdown",
   "metadata": {},
   "source": [
    "#### **1.8 Getting a List’s Length with the len() Function**\n",
    "\n",
    "Fungsi `len()` akan mengembalikan panjang list atau jumlah item yang ada dalam list, serupa dengan fungsi menghitung jumlah karakter dalam string. "
   ]
  },
  {
   "cell_type": "code",
   "execution_count": 3,
   "metadata": {},
   "outputs": [
    {
     "name": "stdout",
     "output_type": "stream",
     "text": [
      "Panjang dari list spam adalah 5\n"
     ]
    }
   ],
   "source": [
    "spam = ['halo', 3.1415, True, None, 42]\n",
    "print(f'Panjang dari list spam adalah {len(spam)}')"
   ]
  },
  {
   "attachments": {},
   "cell_type": "markdown",
   "metadata": {},
   "source": [
    "#### **1.9 Duplicating Values from Lists with copy() Methods**\n",
    "\n",
    "Menyimpan list dalam variabel baru dapat menggunakan operator sama dengan, namun ada satu masalah dengan cara ini. Saat Anda memodifikasi nilai list baru, maka nilai list asli juga ikut termodifikasi. Hal itu terjadi karena nilai list baru merujuk ke objek nilai list yang sama. Jika Anda memerlukan nilai list asli tidak berubah saat nilai list baru diubah, Anda dapat menggunakan metode `copy()`. "
   ]
  },
  {
   "cell_type": "code",
   "execution_count": 4,
   "metadata": {},
   "outputs": [
    {
     "name": "stdout",
     "output_type": "stream",
     "text": [
      "List sebelum: [1, 2, 3]\n",
      "List sesudah: [1, 2, 3, 'a']\n"
     ]
    }
   ],
   "source": [
    "# Tanpa metode copy()\n",
    "spam = [1, 2, 3]\n",
    "print(f'List sebelum: {spam}')\n",
    "\n",
    "newSpam = spam\n",
    "newSpam.append('a')\n",
    "print(f'List sesudah: {spam}')"
   ]
  },
  {
   "cell_type": "code",
   "execution_count": 5,
   "metadata": {},
   "outputs": [
    {
     "name": "stdout",
     "output_type": "stream",
     "text": [
      "List sebelum: [1, 2, 3]\n",
      "List sesudah: [1, 2, 3]\n"
     ]
    }
   ],
   "source": [
    "# Menggunakan metode copy()\n",
    "spam = [1, 2, 3]\n",
    "print(f'List sebelum: {spam}')\n",
    "\n",
    "newSpam = spam.copy()\n",
    "newSpam.append('a')\n",
    "print(f'List sesudah: {spam}')"
   ]
  },
  {
   "attachments": {},
   "cell_type": "markdown",
   "metadata": {},
   "source": [
    "#### **1.10 List Concatenation and Replication**\n",
    "List dapat digabungkan dan direplikasi seperti tipe data string. Operator addition (+) menggabungkan dua list, dan operator multiplication (*) mereplikasi list sejumlah nilai bilangan bulat sebagai pengalih. "
   ]
  },
  {
   "cell_type": "code",
   "execution_count": null,
   "metadata": {},
   "outputs": [],
   "source": [
    "spam = [19, 29, 39]\n",
    "spam += ['X', 'Y', 'Z']\n",
    "print(f'Hasil dari concatenation {spam}')\n",
    "\n",
    "spam = ['X', 'Y', 'Z']\n",
    "spam *= 3\n",
    "print(f'Hasil dari replication {spam}')"
   ]
  },
  {
   "attachments": {},
   "cell_type": "markdown",
   "metadata": {},
   "source": [
    "#### **1.11 Finding a Value in a List with the index() Methods**\n",
    "\n",
    "List memiliki metode `index()` yang dapat memberikan Anda item, dan jika item itu ada di dalam list, Python juga memberikan indeksnya. Jika item tidak ada dalam list, maka Python menghasilkan kesalahan `ValueError`. "
   ]
  },
  {
   "cell_type": "code",
   "execution_count": 20,
   "metadata": {},
   "outputs": [
    {
     "ename": "ValueError",
     "evalue": "42 is not in list",
     "output_type": "error",
     "traceback": [
      "\u001b[0;31m---------------------------------------------------------------------------\u001b[0m",
      "\u001b[0;31mValueError\u001b[0m                                Traceback (most recent call last)",
      "\u001b[0;32m/var/folders/vh/81ldn_315vdf1b2_lnntkb080000gn/T/ipykernel_27676/2105034357.py\u001b[0m in \u001b[0;36m<cell line: 3>\u001b[0;34m()\u001b[0m\n\u001b[1;32m      1\u001b[0m \u001b[0mspam\u001b[0m \u001b[0;34m=\u001b[0m \u001b[0;34m[\u001b[0m\u001b[0;36m1\u001b[0m\u001b[0;34m,\u001b[0m \u001b[0;36m3.1415\u001b[0m\u001b[0;34m,\u001b[0m \u001b[0;36m2\u001b[0m\u001b[0;34m,\u001b[0m \u001b[0;34m[\u001b[0m\u001b[0;36m3\u001b[0m\u001b[0;34m,\u001b[0m \u001b[0;36m42\u001b[0m\u001b[0;34m]\u001b[0m\u001b[0;34m,\u001b[0m \u001b[0;36m10\u001b[0m\u001b[0;34m]\u001b[0m\u001b[0;34m\u001b[0m\u001b[0;34m\u001b[0m\u001b[0m\n\u001b[1;32m      2\u001b[0m \u001b[0;34m\u001b[0m\u001b[0m\n\u001b[0;32m----> 3\u001b[0;31m \u001b[0mprint\u001b[0m\u001b[0;34m(\u001b[0m\u001b[0;34mf'Indeks dari item 42: {spam.index(42)}'\u001b[0m\u001b[0;34m)\u001b[0m\u001b[0;34m\u001b[0m\u001b[0;34m\u001b[0m\u001b[0m\n\u001b[0m\u001b[1;32m      4\u001b[0m \u001b[0mprint\u001b[0m\u001b[0;34m(\u001b[0m\u001b[0;34mf'Indeks dari item 3.14115: {spam.index(3.1415)}'\u001b[0m\u001b[0;34m)\u001b[0m\u001b[0;34m\u001b[0m\u001b[0;34m\u001b[0m\u001b[0m\n\u001b[1;32m      5\u001b[0m \u001b[0mprint\u001b[0m\u001b[0;34m(\u001b[0m\u001b[0;34mf'Indeks dari item HALO: {spam.index(\"HALO\")}'\u001b[0m\u001b[0;34m)\u001b[0m\u001b[0;34m\u001b[0m\u001b[0;34m\u001b[0m\u001b[0m\n",
      "\u001b[0;31mValueError\u001b[0m: 42 is not in list"
     ]
    }
   ],
   "source": [
    "spam = [1, 3.1415, 2, [3, 42], 10]\n",
    "\n",
    "print(f'Indeks dari item 42: {spam.index(42)}')\n",
    "print(f'Indeks dari item 3.14115: {spam.index(3.1415)}')\n",
    "print(f'Indeks dari item HALO: {spam.index(\"HALO\")}')"
   ]
  },
  {
   "attachments": {},
   "cell_type": "markdown",
   "metadata": {},
   "source": [
    "Perhatikan pada baris kode `spam.index(3.1415)`, Python mengembalikan nilai indeks 1, bukan 3, **artinya ketika ada item yang duplikat, indeks dari item pertama (sesuai urutan) yang akan dikembalikan**."
   ]
  },
  {
   "attachments": {},
   "cell_type": "markdown",
   "metadata": {},
   "source": [
    "#### **1.12 Sorting the Values in a List with the sort() Methods**\n",
    "List berisi item string atau bilangan desimal bisa Anda urutkan dengan metode `sort()`. Ada tiga hal yang harus Anda perhatikan tentang metode ini yaitu: \n",
    "\n",
    "* Metode sort() mengurutkan list pada list aslinya, jangan mencoba menyimpan keluaran sebagai variabel baru.\n",
    "\n",
    "* Metode sort() menggunakan urutan ASCIIbetical daripada urutan abjad yang sebenarnya untuk menyortir string. Ini berarti huruf besar lebih awal diurutkan sebelum huruf kecil, seperti huruf kecil a muncul setelah huruf Z kapital.\n",
    "\n",
    "* Anda tidak dapat mengurutkan daftar yang memiliki nilai angka dan nilai string bersamaan di dalamnya."
   ]
  },
  {
   "cell_type": "code",
   "execution_count": 18,
   "metadata": {},
   "outputs": [
    {
     "name": "stdout",
     "output_type": "stream",
     "text": [
      "Aturan pertama: ['antonie', 'baron', 'jhon', 'kenny']\n",
      "Aturan kedua: ['B', 'X', 'a', 'y']\n"
     ]
    },
    {
     "ename": "TypeError",
     "evalue": "'<' not supported between instances of 'str' and 'float'",
     "output_type": "error",
     "traceback": [
      "\u001b[0;31m---------------------------------------------------------------------------\u001b[0m",
      "\u001b[0;31mTypeError\u001b[0m                                 Traceback (most recent call last)",
      "\u001b[0;32m/var/folders/vh/81ldn_315vdf1b2_lnntkb080000gn/T/ipykernel_27676/1510661121.py\u001b[0m in \u001b[0;36m<cell line: 13>\u001b[0;34m()\u001b[0m\n\u001b[1;32m     11\u001b[0m \u001b[0;31m# Klausul ketiga\u001b[0m\u001b[0;34m\u001b[0m\u001b[0;34m\u001b[0m\u001b[0m\n\u001b[1;32m     12\u001b[0m \u001b[0mspam\u001b[0m \u001b[0;34m=\u001b[0m \u001b[0;34m[\u001b[0m\u001b[0;36m2\u001b[0m\u001b[0;34m,\u001b[0m \u001b[0;36m5\u001b[0m\u001b[0;34m,\u001b[0m \u001b[0;34m-\u001b[0m\u001b[0;36m7\u001b[0m\u001b[0;34m,\u001b[0m \u001b[0;36m3.14\u001b[0m\u001b[0;34m,\u001b[0m \u001b[0;34m'jhon'\u001b[0m\u001b[0;34m,\u001b[0m \u001b[0;34m'baron'\u001b[0m\u001b[0;34m]\u001b[0m\u001b[0;34m\u001b[0m\u001b[0;34m\u001b[0m\u001b[0m\n\u001b[0;32m---> 13\u001b[0;31m \u001b[0mspam\u001b[0m\u001b[0;34m.\u001b[0m\u001b[0msort\u001b[0m\u001b[0;34m(\u001b[0m\u001b[0;34m)\u001b[0m\u001b[0;34m\u001b[0m\u001b[0;34m\u001b[0m\u001b[0m\n\u001b[0m\u001b[1;32m     14\u001b[0m \u001b[0mspam\u001b[0m\u001b[0;34m\u001b[0m\u001b[0;34m\u001b[0m\u001b[0m\n",
      "\u001b[0;31mTypeError\u001b[0m: '<' not supported between instances of 'str' and 'float'"
     ]
    }
   ],
   "source": [
    "# Klausul pertama\n",
    "spam = ['jhon', 'baron', 'kenny', 'antonie']\n",
    "spam.sort()\n",
    "print(f'Aturan pertama: {spam}')\n",
    "\n",
    "# Klausul kedua\n",
    "spam = ['a', 'B', 'y', 'X']\n",
    "spam.sort()\n",
    "print(f'Aturan kedua: {spam}')\n",
    "\n",
    "# Klausul ketiga\n",
    "spam = [2, 5, -7, 3.14, 'jhon', 'baron']\n",
    "spam.sort()\n",
    "spam"
   ]
  },
  {
   "attachments": {},
   "cell_type": "markdown",
   "metadata": {},
   "source": [
    "#### **1.13 Reversing the Values in a List with the reverse() Methods**\n",
    "\n",
    "Jika Anda perlu membalikkan urutan item dalam list dengan cepat, Anda dapat memanggil metode `reverse()`. **Perhatikan bahwa metode ini tidak memperhatikan urutan ASCIIbetical**."
   ]
  },
  {
   "cell_type": "code",
   "execution_count": 31,
   "metadata": {},
   "outputs": [
    {
     "name": "stdout",
     "output_type": "stream",
     "text": [
      "Hasil sebelum: ['a', 'A', 'B', 'Y', 'X']\n",
      "Hasil sesudah: ['X', 'Y', 'B', 'A', 'a']\n"
     ]
    }
   ],
   "source": [
    "spam = ['a', 'A', 'B', 'Y', 'X']\n",
    "print(f'Hasil sebelum: {spam}')\n",
    "\n",
    "spam.reverse()\n",
    "print(f'Hasil sesudah: {spam}')"
   ]
  },
  {
   "attachments": {},
   "cell_type": "markdown",
   "metadata": {},
   "source": [
    "## `2. Tuple Data Type`\n",
    "\n",
    "Tipe data tuple hampir identik dengan tipe data list, kecuali dalam tiga hal yaitu:\n",
    "* **Pertama**, sintaksis tupel diketik dengan tanda kurung, bukan tanda kurung siku.\n",
    "\n",
    "* **Kedua**, tupel tidak seperti string, item di dalam tuple tidak dapat diubah, ditambahkan, atau dihapus, Anda hanya diperbolehkan mengakses item dengan teknik pengindeksan.\n",
    "\n",
    "* **Ketiga**, jika Anda hanya memiliki satu item dalam tuple, Anda harus menempatkan tanda koma setelahnya di dalam tanda kurung. "
   ]
  },
  {
   "cell_type": "code",
   "execution_count": 32,
   "metadata": {},
   "outputs": [
    {
     "name": "stdout",
     "output_type": "stream",
     "text": [
      "Ini adalah list ['halo', 3.1415, True, None, 42] <class 'list'>\n",
      "Ini adalah tuple ('halo', 3.1415, True, None, 42) <class 'tuple'>\n"
     ]
    }
   ],
   "source": [
    "# Klausul pertama\n",
    "spamList = ['halo', 3.1415, True, None, 42]\n",
    "spamTuple = ('halo', 3.1415, True, None, 42)\n",
    "\n",
    "print(f'Ini adalah list {spamList} {type(spamList)}')\n",
    "print(f'Ini adalah tuple {spamTuple} {type(spamTuple)}')"
   ]
  },
  {
   "cell_type": "code",
   "execution_count": 33,
   "metadata": {},
   "outputs": [
    {
     "name": "stdout",
     "output_type": "stream",
     "text": [
      "Item di dalam indeks [0: 3] adalah ('halo', 3.1415, True)\n",
      "Panjang dari list spam adalah 5\n",
      "Indeks dari item 42 adalah 4\n",
      "Item dengan indek pertama 0 adalah ('tiger', 'cat')\n",
      "Item dengan indek pertama 0 dan indeks kedua 1 adalah cat\n",
      "Hasil dari concatenation (19, 29, 39, 'X', 'Y', 'Z')\n",
      "Hasil dari replication ('X', 'Y', 'Z', 'X', 'Y', 'Z', 'X', 'Y', 'Z')\n"
     ]
    }
   ],
   "source": [
    "# Klausul kedua\n",
    "spam = ('halo', 3.1415, True, None, 42)\n",
    "print(f'Item di dalam indeks [0: 3] adalah {spam[0: 3]}')\n",
    "print(f'Panjang dari list spam adalah {len(spam)}')\n",
    "print(f'Indeks dari item 42 adalah {spam.index(42)}')\n",
    "\n",
    "spam = (('tiger', 'cat'), (10, 20, 30, 40))\n",
    "print(f'Item dengan indek pertama 0 adalah {spam[0]}')\n",
    "print(f'Item dengan indek pertama 0 dan indeks kedua 1 adalah {spam[0][1]}')\n",
    "\n",
    "spam = (19, 29, 39)\n",
    "spam += ('X', 'Y', 'Z')\n",
    "print(f'Hasil dari concatenation {spam}')\n",
    "\n",
    "spam = ('X', 'Y', 'Z')\n",
    "spam *= 3\n",
    "print(f'Hasil dari replication {spam}')"
   ]
  },
  {
   "cell_type": "code",
   "execution_count": 34,
   "metadata": {},
   "outputs": [
    {
     "ename": "TypeError",
     "evalue": "'tuple' object does not support item assignment",
     "output_type": "error",
     "traceback": [
      "\u001b[0;31m---------------------------------------------------------------------------\u001b[0m",
      "\u001b[0;31mTypeError\u001b[0m                                 Traceback (most recent call last)",
      "\u001b[0;32m/var/folders/vh/81ldn_315vdf1b2_lnntkb080000gn/T/ipykernel_27676/185294033.py\u001b[0m in \u001b[0;36m<cell line: 3>\u001b[0;34m()\u001b[0m\n\u001b[1;32m      1\u001b[0m \u001b[0;31m# Tidak diperkenankan memanipulasi item\u001b[0m\u001b[0;34m\u001b[0m\u001b[0;34m\u001b[0m\u001b[0m\n\u001b[1;32m      2\u001b[0m \u001b[0mspam\u001b[0m \u001b[0;34m=\u001b[0m \u001b[0;34m(\u001b[0m\u001b[0;34m'halo'\u001b[0m\u001b[0;34m,\u001b[0m \u001b[0;36m3.1415\u001b[0m\u001b[0;34m,\u001b[0m \u001b[0;32mTrue\u001b[0m\u001b[0;34m,\u001b[0m \u001b[0;32mNone\u001b[0m\u001b[0;34m,\u001b[0m \u001b[0;36m42\u001b[0m\u001b[0;34m)\u001b[0m\u001b[0;34m\u001b[0m\u001b[0;34m\u001b[0m\u001b[0m\n\u001b[0;32m----> 3\u001b[0;31m \u001b[0mspam\u001b[0m\u001b[0;34m[\u001b[0m\u001b[0;36m1\u001b[0m\u001b[0;34m]\u001b[0m \u001b[0;34m=\u001b[0m \u001b[0;34m'halo'\u001b[0m\u001b[0;34m\u001b[0m\u001b[0;34m\u001b[0m\u001b[0m\n\u001b[0m",
      "\u001b[0;31mTypeError\u001b[0m: 'tuple' object does not support item assignment"
     ]
    }
   ],
   "source": [
    "# Tidak diperkenankan memanipulasi item\n",
    "spam = ('halo', 3.1415, True, None, 42)\n",
    "spam[1] = 'halo'"
   ]
  },
  {
   "cell_type": "code",
   "execution_count": 35,
   "metadata": {},
   "outputs": [
    {
     "name": "stdout",
     "output_type": "stream",
     "text": [
      "<class 'tuple'>\n",
      "<class 'str'>\n"
     ]
    }
   ],
   "source": [
    "# Klausul ketiga\n",
    "print(type(('hello',)))\n",
    "print(type(('hello')))"
   ]
  },
  {
   "attachments": {},
   "cell_type": "markdown",
   "metadata": {},
   "source": [
    "**Tupel bermanfaat ketika Anda ingin menyampaikan kepada siapa pun, bahwa Anda tidak bermaksud mengubah item di dalamnya**. Manfaat kedua menggunakan tupel daripada list adalah, karena tidak dapat diubah dan isinya tidak berubah, Python akan menerapkan beberapa pengoptimalan yang membuat eksekusi kode program sedikit lebih cepat."
   ]
  },
  {
   "attachments": {},
   "cell_type": "markdown",
   "metadata": {},
   "source": [
    "#### **2.1 Converting Types with the list() and tuple() Functions**\n",
    "\n",
    "Serupa dengan bagaimana fungsi `str(42)` mengembalikan '42' sebagai representasi string dari bilangan bulat 42, maka fungsi `list() dan tuple()` akan mengembalikan versi list dan tuple dari nilai yang direpresentasikan"
   ]
  },
  {
   "cell_type": "code",
   "execution_count": null,
   "metadata": {},
   "outputs": [],
   "source": [
    "spamTuple = tuple(['cat', 'dog', 5])\n",
    "spamList = list(('cat', 'dog', 5))\n",
    "\n",
    "print(f'Ini adalah list {spamList} {type(spamList)}')\n",
    "print(f'Ini adalah tuple {spamTuple} {type(spamTuple)}')"
   ]
  },
  {
   "attachments": {},
   "cell_type": "markdown",
   "metadata": {},
   "source": [
    "Jika Anda ingin memanipulasi tuple, Anda memerlukan untuk mengonversinya ke list terlebih dulu."
   ]
  }
 ],
 "metadata": {
  "kernelspec": {
   "display_name": "Python 3",
   "language": "python",
   "name": "python3"
  },
  "language_info": {
   "codemirror_mode": {
    "name": "ipython",
    "version": 3
   },
   "file_extension": ".py",
   "mimetype": "text/x-python",
   "name": "python",
   "nbconvert_exporter": "python",
   "pygments_lexer": "ipython3",
   "version": "3.9.16"
  },
  "orig_nbformat": 4,
  "vscode": {
   "interpreter": {
    "hash": "31f2aee4e71d21fbe5cf8b01ff0e069b9275f58929596ceb00d14d90e3e16cd6"
   }
  }
 },
 "nbformat": 4,
 "nbformat_minor": 2
}

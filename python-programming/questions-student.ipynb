{
 "cells": [
  {
   "cell_type": "code",
   "execution_count": 5,
   "metadata": {},
   "outputs": [
    {
     "data": {
      "text/plain": [
       "['Baron', 1, [True, None], 21.5, [10, 21, 15]]"
      ]
     },
     "execution_count": 5,
     "metadata": {},
     "output_type": "execute_result"
    }
   ],
   "source": [
    "# Q-1: Bagaimana cara menghapus nilai di dalam sublist?\n",
    "\n",
    "l1 = ['Baron', 1, 50, [True, 50, None], 21.5, [10, 21, 15, 50]]\n",
    "l2 = []\n",
    "\n",
    "for i, val in enumerate(l1):\n",
    "    if isinstance(val, list):\n",
    "        l2.append(\n",
    "            [j for j in val if j != 50]\n",
    "        )\n",
    "    elif val != 50:\n",
    "        l2.append(val)\n",
    " \n",
    "l2"
   ]
  },
  {
   "cell_type": "code",
   "execution_count": 2,
   "metadata": {},
   "outputs": [
    {
     "name": "stdout",
     "output_type": "stream",
     "text": [
      "key size tidak ada dalam dictionary\n",
      "key gender tidak ada dalam dictionary\n"
     ]
    },
    {
     "data": {
      "text/plain": [
       "{'age': 17, 'type': 'cat', 'hair': 'brown'}"
      ]
     },
     "execution_count": 2,
     "metadata": {},
     "output_type": "execute_result"
    }
   ],
   "source": [
    "# Q-2: Apakah ada contoh penerapan error handling dengan get() methods?\n",
    "\n",
    "l1 = ['color', 'size', 'gender', 'name', 'age']\n",
    "\n",
    "d1 = {\n",
    "    'color': None,\n",
    "    'age': 17,\n",
    "    'name': None,\n",
    "    'type': 'cat',\n",
    "    'hair': 'brown'\n",
    "}\n",
    "\n",
    "for item in l1:\n",
    "    value = d1.get(item, 0)\n",
    "    if value == None:\n",
    "        del d1[item]\n",
    "    elif value == 0:\n",
    "        print(f'key {item} tidak ada dalam dictionary')\n",
    "        \n",
    "d1"
   ]
  },
  {
   "cell_type": "code",
   "execution_count": 4,
   "metadata": {},
   "outputs": [
    {
     "data": {
      "text/plain": [
       "{'gold coin': 45, 'rope': 1, 'dagger': 1, 'ruby': 1}"
      ]
     },
     "execution_count": 4,
     "metadata": {},
     "output_type": "execute_result"
    }
   ],
   "source": [
    "# Q-3: Bagaimana cara input item baru jika melalui looping terhadap dict?\n",
    "\n",
    "inv = {\n",
    "    'gold coin': 42, \n",
    "    'rope': 1\n",
    "}\n",
    "dragonLoot = [\n",
    "    'gold coin', \n",
    "    'dagger', \n",
    "    'gold coin', \n",
    "    'gold coin', \n",
    "    'ruby'\n",
    "]\n",
    "\n",
    "for key, val in inv.copy().items():\n",
    "    if key in dragonLoot:\n",
    "        count = 0\n",
    "        for item in dragonLoot:\n",
    "            if item == key:\n",
    "                count += 1\n",
    "            else:\n",
    "                inv[item] = 1\n",
    "        inv[key] += count\n",
    "    \n",
    "inv"
   ]
  },
  {
   "cell_type": "code",
   "execution_count": 5,
   "metadata": {},
   "outputs": [
    {
     "data": {
      "text/plain": [
       "{'age': 17, 'type': 'cat', 'name': 'zophie', 'warna': 'blue'}"
      ]
     },
     "execution_count": 5,
     "metadata": {},
     "output_type": "execute_result"
    }
   ],
   "source": [
    "# Q-4: Bagaimana cara untuk rename key?\n",
    "\n",
    "d1 = {\n",
    "    'color': 'blue',\n",
    "    'age': 17,\n",
    "    'type': 'cat',\n",
    "    'name': 'zophie'\n",
    "}\n",
    "\n",
    "for key, val in d1.copy().items():\n",
    "    if key == 'color':\n",
    "        d1.update(\n",
    "            {\n",
    "                'warna': val\n",
    "            }\n",
    "        )\n",
    "        del d1[key]\n",
    "\n",
    "d1"
   ]
  }
 ],
 "metadata": {
  "kernelspec": {
   "display_name": "Python 3",
   "language": "python",
   "name": "python3"
  },
  "language_info": {
   "codemirror_mode": {
    "name": "ipython",
    "version": 3
   },
   "file_extension": ".py",
   "mimetype": "text/x-python",
   "name": "python",
   "nbconvert_exporter": "python",
   "pygments_lexer": "ipython3",
   "version": "3.9.16"
  },
  "orig_nbformat": 4,
  "vscode": {
   "interpreter": {
    "hash": "31f2aee4e71d21fbe5cf8b01ff0e069b9275f58929596ceb00d14d90e3e16cd6"
   }
  }
 },
 "nbformat": 4,
 "nbformat_minor": 2
}

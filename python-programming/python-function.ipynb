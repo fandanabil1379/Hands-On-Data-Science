{
 "cells": [
  {
   "attachments": {},
   "cell_type": "markdown",
   "metadata": {},
   "source": [
    "<p style='text-align: right;'> <span style='color:Blue'> Created by: Shafanda nabil sembodo </p> </span>\n",
    "\n",
    "<h1><p style='text-align: center; font-weight: bold;'> Introduction to Python Function </p></h1>\n",
    "\n",
    "Anda sudah mengenal fungsi `print(), input(), dan len()` dari pembahasan sebelumnya. Python menyediakan beberapa fungsi bawaan (built-in) seperti itu, tetapi Anda juga dapat menulis fungsi Anda sendiri disesuaikan dengan kebutuhan Anda. **Fungsi ini mirip seperti mini program dalam sebuah program**.\n",
    "\n",
    "___"
   ]
  },
  {
   "attachments": {},
   "cell_type": "markdown",
   "metadata": {},
   "source": [
    "## `1. Basic Concept`\n",
    "\n",
    "Tujuan utama dari fungsi adalah untuk **mengelompokkan kode yang dieksekusi berulang kali**. Tanpa fungsi, Anda harus menyalin dan menempelkan kode program yang sama setiap saat Anda butuh, dan program akan terlihat berantakan. Selain itu, fungsi dapat membantu programmer untuk menghindari duplikasi kode, membuat program Anda lebih pendek, mudah dibaca, dan mudah diperbarui.\n"
   ]
  },
  {
   "cell_type": "code",
   "execution_count": null,
   "metadata": {},
   "outputs": [],
   "source": [
    "# Contoh tanpa menggunakan fungsi\n",
    "print('Hello world!')\n",
    "print('Hello there.')\n",
    "print('I\\'m Baron')\n",
    "print('Hello world!')\n",
    "print('Hello there.')\n",
    "print('I\\'m Baron')\n",
    "print('Hello world!')\n",
    "print('Hello there.')\n",
    "print('I\\'m Baron')"
   ]
  },
  {
   "cell_type": "code",
   "execution_count": null,
   "metadata": {},
   "outputs": [],
   "source": [
    "# Contoh dengan menggunakan fungsi\n",
    "def hello():\n",
    "    print('Hello world!')\n",
    "    print('Hello there.')\n",
    "    print('I\\'m Baron')\n",
    "\n",
    "hello()\n",
    "hello()\n",
    "hello()"
   ]
  },
  {
   "attachments": {},
   "cell_type": "markdown",
   "metadata": {},
   "source": [
    "#### **1.1 Define, Call, Pass, Argument, and Paramater**\n",
    "\n",
    "Untuk mendefinisikan suatu fungsi, Anda perlu mengetikkan pernyataan `def` diikuti nama fungsinya yaitu `hello()` yang berisi paramater 'name', dan diakhiri `tanda titik dua`. Kemudian, Anda bisa mengetikkan algoritme di baris berikutnya dengan indentasi, seperti `print(...)`."
   ]
  },
  {
   "cell_type": "code",
   "execution_count": null,
   "metadata": {},
   "outputs": [],
   "source": [
    "# Contoh cara mendefinisikan fungsi hello\n",
    "def hello(nama):\n",
    "    print(f'Hello, {nama}')\n",
    "    return True\n",
    "\n",
    "hello('Alice')"
   ]
  },
  {
   "attachments": {},
   "cell_type": "markdown",
   "metadata": {},
   "source": [
    "Mengetikkan kode baris `Hello('Alice')` berarti Anda telah melakukan `call`. Python akan mengirim perintah eksekusi ke bagian atas kode fungsi. Pemanggilan fungsi ini melakukan `pass` nilai string Alice ke fungsi sebagai `argument`. Argumen disimpan dalam `parameter` 'nama' sebagai variabel lokal. Satu hal khusus yang perlu diperhatikan tentang parameter adalah **nilai yang disimpan dalam parameter dimusnahkan saat fungsi selesai dijalankan.**"
   ]
  },
  {
   "attachments": {},
   "cell_type": "markdown",
   "metadata": {},
   "source": [
    "#### **1.2 Return Value and return Statement**\n",
    "\n",
    "Saat Anda memanggil fungsi `len()` dan memberikan argumen seperti 'Halo', Anda akan mendapatkan nilai integer 5, yang merupakan panjang string yang Anda berikan. Nilai hasil pemanggilan fungsi tadi di sebut `return value`.\n",
    "\n",
    "Saat membuat fungsi menggunakan pernyataan `def`, Anda dapat menentukan `return value` yang seharusnya dengan `return statement`. Pernyataan ini terdiri dari:\n",
    "1. Kata kunci `return`\n",
    "2. Nilai atau ekspresi yang dikembalikan"
   ]
  },
  {
   "cell_type": "code",
   "execution_count": 2,
   "metadata": {},
   "outputs": [
    {
     "name": "stdout",
     "output_type": "stream",
     "text": [
      "Hasilnya adalah Ganjil dan Genap\n"
     ]
    }
   ],
   "source": [
    "# Contoh penerapan return statement\n",
    "def check(x=5):\n",
    "    c = x % 2\n",
    "    if c != 0:\n",
    "        return 'Ganjil'\n",
    "    else:\n",
    "        return 'Genap'\n",
    "        \n",
    "angka1 = check(3)\n",
    "angka2 = check(6)\n",
    "print(f'Hasilnya adalah {angka1} dan {angka2}')"
   ]
  },
  {
   "attachments": {},
   "cell_type": "markdown",
   "metadata": {},
   "source": [
    "Di belakang layar, Python menambahkan `return None` ke akhir baris kode pada fungsi, ketika Anda tidak menyertakan pernyataan `return`. Juga, jika Anda menggunakan pernyataan `return` tanpa diikuti nilai (yaitu, hanya kata kunci `return` itu sendiri), maka tidak ada yang dikembalikan."
   ]
  },
  {
   "attachments": {},
   "cell_type": "markdown",
   "metadata": {},
   "source": [
    "#### **1.3 Keyword Arguments**\n",
    "\n",
    "Sebagian besar argumen diidentifikasi berdasarkan posisinya dalam pemanggilan fungsi. Misalnya, `random.randint(1, 10)` berbeda dengan `random.randint(10, 1)`. Pemanggilan fungsi `random.randint(1, 10)` akan mengembalikan bilangan bulat acak antara 1 dan 10 karena argumen pertama adalah rentang terendah dan argumen kedua adalah rentang tertinggi. Sementara `random.randint(10, 1) ` menyebabkan kesalahan."
   ]
  },
  {
   "cell_type": "code",
   "execution_count": null,
   "metadata": {},
   "outputs": [],
   "source": [
    "def kurang(x, y):\n",
    "    c = x - y\n",
    "    return c\n",
    "\n",
    "spam1 = kurang(5, 2)\n",
    "spam2 = kurang(2, 5)\n",
    "\n",
    "print(spam1, spam2)"
   ]
  },
  {
   "cell_type": "code",
   "execution_count": null,
   "metadata": {},
   "outputs": [],
   "source": [
    "# Contoh efek dari posisi argument\n",
    "import random\n",
    "\n",
    "random.randint(1, 10)       # Bilangan random dari 1 sd 10    \n",
    "random.randint(-10, 1)       # error"
   ]
  },
  {
   "attachments": {},
   "cell_type": "markdown",
   "metadata": {},
   "source": [
    "Namun, daripada melalui posisinya, Anda lebih aman untuk mengidentifikasi argumen melalui keywords mereka."
   ]
  },
  {
   "cell_type": "code",
   "execution_count": null,
   "metadata": {},
   "outputs": [],
   "source": [
    "# Contoh penggunaan keyword argument\n",
    "def hello(name, age):\n",
    "    print(f'Hello, {name}')\n",
    "    print(f'Your age now, {age}')\n",
    "\n",
    "hello(name='Alice', age=17)"
   ]
  },
  {
   "attachments": {},
   "cell_type": "markdown",
   "metadata": {},
   "source": [
    "## `2. Python Scope`\n",
    "\n",
    "Bayangkan sebuah scope sebagai wadah untuk variabel. Ketika sebuah scope dihancurkan, semua nilai/variabel yang tersimpan di dalam scope akan dihapus/dilupakan. **Dalam Python, ada dua jenis scope yaitu global dan lokal. Hanya ada satu global scope, dan lingkup ini dibuat ketika program Anda dimulai. Namun, bisa ada lebih dari satu lingkup lokal**. Ketika program Anda diakhiri, lingkup global akan dihancurkan, dan semua variabelnya akan dilupakan. Jika tidak, pada saat Anda menjalankan program berikutnya, variabel-variabel tersebut akan mengingat nilai dari terakhir kali Anda menjalankannya."
   ]
  },
  {
   "attachments": {},
   "cell_type": "markdown",
   "metadata": {},
   "source": [
    "#### **2.1 Local and Global Scope**\n",
    "\n",
    "Parameter dan variabel yang ditetapkan dalam fungsi yang dipanggil dikatakan ada dalam `lingkup lokal` fungsi tersebut. Variabel yang ditugaskan di luar semua fungsi dikatakan ada dalam `lingkup global`. Variabel yang ada dalam lingkup lokal disebut `variabel lokal`, sedangkan variabel yang ada dalam lingkup global disebut `variabel global`. **Variabel tidak bisa bersifat lokal dan global secara bersamaan.**\n",
    "\n",
    "Klausul penting dalam scope yaitu:\n",
    "\n",
    "1. Kode dalam lingkup global, tidak dapat menggunakan variabel lokal apa pun.\n",
    "2. Kode dalam lingkup lokal dapat mengakses variabel global.\n",
    "3. Kode dalam lingkup lokal tidak dapat menggunakan variabel dalam lingkup lokal lainnya.\n",
    "4. Anda dapat menggunakan nama yang sama untuk variabel yang berbeda jika berada dalam scope yang berbeda.\n",
    "\n",
    "Berikut penjelasan dari tiap klausul:"
   ]
  },
  {
   "cell_type": "code",
   "execution_count": 6,
   "metadata": {},
   "outputs": [
    {
     "name": "stdout",
     "output_type": "stream",
     "text": [
      "31337\n"
     ]
    }
   ],
   "source": [
    "# Klausul pertama\n",
    "def spam():\n",
    "    eggs = 31337\n",
    "\n",
    "spam()\n",
    "print(eggs)"
   ]
  },
  {
   "attachments": {},
   "cell_type": "markdown",
   "metadata": {},
   "source": [
    "**Kesalahan di atas terjadi karena variabel eggs hanya ada di lingkup lokal yang dibuat saat** `spam()` **dipanggil.** Setelah eksekusi program kembali dari spam, cakupan lokal tersebut dihancurkan, dan tidak ada lagi variabel bernama eggs. Jadi ketika program Anda mencoba menjalankan `print(eggs)`, Python memberi Anda kesalahan yang mengatakan bahwa telur tidak ditentukan."
   ]
  },
  {
   "cell_type": "code",
   "execution_count": 10,
   "metadata": {},
   "outputs": [
    {
     "name": "stdout",
     "output_type": "stream",
     "text": [
      "41\n",
      "42\n"
     ]
    }
   ],
   "source": [
    "# Klausul kedua\n",
    "eggs = 42\n",
    "def spam():\n",
    "    print(eggs + 1)\n",
    "\n",
    "spam()\n",
    "print(eggs)"
   ]
  },
  {
   "attachments": {},
   "cell_type": "markdown",
   "metadata": {},
   "source": [
    "Karena tidak ada parameter bernama egg atau kode apa pun yang menetapkan egg sebagai nilai dalam fungsi `spam()`, ketika telur digunakan dalam `spam()`, **Python menganggapnya sebagai referensi ke variabel global telur.** Inilah mengapa angka `42` dicetak sebanyak dua kali saat program di atas dijalankan."
   ]
  },
  {
   "cell_type": "code",
   "execution_count": 14,
   "metadata": {},
   "outputs": [
    {
     "name": "stdout",
     "output_type": "stream",
     "text": [
      "0\n",
      "99\n"
     ]
    }
   ],
   "source": [
    "# Klausul ketiga\n",
    "def spam():\n",
    "    eggsSpam = 99\n",
    "    bacon()\n",
    "    print(eggsSpam)\n",
    "\n",
    "def bacon():\n",
    "    eggsBacon = 0\n",
    "    print(eggsBacon)\n",
    "\n",
    "spam()"
   ]
  },
  {
   "attachments": {},
   "cell_type": "markdown",
   "metadata": {},
   "source": [
    "Saat program dimulai, fungsi `spam()` dipanggil, dan cakupan lokal dibuat. Variabel lokal egg diatur ke 99. Kemudian fungsi `bacon()` dipanggil, dan cakupan lokal kedua dibuat, lalu variabel lokal egg yang berbeda dari yang ada di cakupan lokal `spam()` juga dibuat. **Beberapa cakupan lokal dapat ada secara bersamaan, namun variabel lokal antar fungsi benar-benar terpisah.**"
   ]
  },
  {
   "attachments": {},
   "cell_type": "markdown",
   "metadata": {},
   "source": [
    "Secara teknis, sangat dapat diterima untuk menggunakan nama variabel yang sama untuk variabel global dan variabel lokal dalam lingkup yang berbeda dengan Python. **Tapi, untuk menyederhanakan hidup Anda, hindari melakukan ini.** Untuk melihat apa yang terjadi, akan ditunjukkan berikut:"
   ]
  },
  {
   "cell_type": "code",
   "execution_count": null,
   "metadata": {},
   "outputs": [],
   "source": [
    "# Klausul keempat\n",
    "eggs = 'global'\n",
    "\n",
    "def spam():\n",
    "    eggs = 'spam local'\n",
    "    print(eggs)   \n",
    "\n",
    "def bacon():\n",
    "    eggs = 'bacon local'\n",
    "    print(eggs)   \n",
    "    spam()\n",
    "    print(eggs)   \n",
    "    \n",
    "bacon()\n",
    "print(eggs)"
   ]
  },
  {
   "attachments": {},
   "cell_type": "markdown",
   "metadata": {},
   "source": [
    "Sebenarnya ada tiga variabel berbeda dalam program ini, tetapi yang membingungkan semuanya bernama egg. Variabelnya adalah sebagai berikut:\n",
    "\n",
    "1. Sebuah variabel bernama egg yang ada dalam `lingkup lokal spam()`.\n",
    "2. Sebuah variabel bernama egg yang ada dalam `lingkup lokal bacon()`.\n",
    "3. Variabel bernama egg yang ada di `lingkup global`.\n",
    "\n",
    "**Karena ketiga variabel terpisah ini semuanya memiliki nama yang sama, akan membingungkan untuk melacak mana yang digunakan pada waktu tertentu.** Inilah sebabnya mengapa Anda harus menghindari penggunaan nama variabel yang sama dalam lingkup yang berbeda."
   ]
  },
  {
   "attachments": {},
   "cell_type": "markdown",
   "metadata": {},
   "source": [
    "#### **2.2 The global Statement**\n",
    "\n",
    "Jika Anda perlu memodifikasi variabel global dari dalam suatu fungsi, gunakan pernyataan `global`. Jika Anda memiliki variabel seperti egg yang bersifat global di bagian atas fungsi, ia memberi tahu Python, **\"Dalam fungsi ini, eggs mengacu pada variabel global, jadi jangan buat variabel lokal dengan nama ini.\"**"
   ]
  },
  {
   "cell_type": "code",
   "execution_count": 35,
   "metadata": {},
   "outputs": [
    {
     "name": "stdout",
     "output_type": "stream",
     "text": [
      "10\n"
     ]
    },
    {
     "data": {
      "text/plain": [
       "15"
      ]
     },
     "execution_count": 35,
     "metadata": {},
     "output_type": "execute_result"
    }
   ],
   "source": [
    "eggs = 10\n",
    "\n",
    "def spam():\n",
    "    global eggs\n",
    "    eggs = eggs + 5\n",
    "    return eggs\n",
    "\n",
    "spam()\n",
    "print(eggs)"
   ]
  },
  {
   "cell_type": "code",
   "execution_count": null,
   "metadata": {},
   "outputs": [],
   "source": [
    "# Contoh pertama penerapan global statement\n",
    "eggs = 'global'\n",
    "\n",
    "def spam():\n",
    "    global eggs\n",
    "    eggs = 42\n",
    "\n",
    "spam()\n",
    "print(eggs)"
   ]
  },
  {
   "attachments": {},
   "cell_type": "markdown",
   "metadata": {},
   "source": [
    "Karena eggs dideklarasikan global di bagian atas `spam()`, ketika eggs disetel ke 42, ini dilakukan untuk eggs yang dicakup secara global. Tidak ada variabel telur lokal yang dibuat. Ada empat aturan untuk mengetahui apakah suatu variabel berada dalam lingkup lokal atau lingkup global:\n",
    "\n",
    "1. Jika suatu variabel digunakan dalam lingkup global (yaitu, di luar semua fungsi), maka selalu merupakan **variabel global.**\n",
    "2. Jika ada pernyataan `global` untuk variabel dalam suatu fungsi, itu adalah **variabel global.**\n",
    "3. Sebaliknya, jika variabel digunakan dalam penugasan di dalam fungsi, itu adalah **variabel lokal.**\n",
    "4. Tapi jika variabel tidak digunakan dalam penugasan, itu adalah **variabel global.**"
   ]
  },
  {
   "cell_type": "code",
   "execution_count": 9,
   "metadata": {},
   "outputs": [
    {
     "name": "stdout",
     "output_type": "stream",
     "text": [
      "42\n",
      "spam\n"
     ]
    }
   ],
   "source": [
    "# Contoh kedua penerapan global statement\n",
    "eggs = 42 # this is the global\n",
    "\n",
    "def spam():\n",
    "  global eggs\n",
    "  eggs = 'spam' # this is the global\n",
    "\n",
    "def bacon():\n",
    "  eggs = 'bacon' # this is a local\n",
    "\n",
    "def ham():\n",
    "  print(eggs) # this is the global\n",
    "\n",
    "ham()\n",
    "spam()\n",
    "print(eggs)"
   ]
  },
  {
   "attachments": {},
   "cell_type": "markdown",
   "metadata": {},
   "source": [
    "Jika Anda mencoba menggunakan variabel lokal dalam suatu fungsi sebelum Anda memberikan nilai padanya, seperti dalam program berikut, Python akan memberi Anda kesalahan. Kesalahan ini terjadi karena Python melihat bahwa ada pernyataan penugasan untuk eggs dalam fungsi `spam()` dan, karenanya, menganggap eggs sebagai lokal. Tetapi karena `print(eggs)` dijalankan sebelum eggs diberikan apapun, variabel eggs lokal tidak ada. **Dan Python tidak akan menggunakan variabel eggs global.**"
   ]
  },
  {
   "cell_type": "code",
   "execution_count": null,
   "metadata": {},
   "outputs": [],
   "source": [
    "# Contoh perbedaan tanpa global statement\n",
    "eggs = 'global'\n",
    "\n",
    "def spam():\n",
    "    print(eggs)\n",
    "    eggs = 'spam local'\n",
    "\n",
    "spam()"
   ]
  },
  {
   "attachments": {},
   "cell_type": "markdown",
   "metadata": {},
   "source": [
    "## `3. Regular Function Application`\n",
    "\n",
    "Python memungkinkan Anda menggunakan fungsi secara fleksibel, artinya suatu fungsi bisa berperan sebagai fungsi yang individual, atau berposisi sebagai argumen, dan bisa menjadi bagian dari fungsi lain atau dirinya sendiri. Perlu diperhatikan, Anda perlu cermat dalam meletakkan peran dari fungsi ini."
   ]
  },
  {
   "attachments": {},
   "cell_type": "markdown",
   "metadata": {},
   "source": [
    "#### **3.1 Callback Function**\n",
    "\n",
    "Sebuah fungsi tidak hanya menerima argument dengan tipe data seperti string, integer, boolean dan sebagainya, tapi fungsi juga dapat menerima argument berupa fungsi lainnya. Misalnya, Anda membuat sebuah fungsi bernama `hello()` dan `spam()`, kemudian Anda menjadikan fungsi `hello()` sebagai argument untuk fungsi `spam()`. **Fungsi** `hello()` **yang masuk ke dalam fungsi** `spam()` **inilah yang kemudian disebut sebagai callback function**."
   ]
  },
  {
   "cell_type": "code",
   "execution_count": 6,
   "metadata": {},
   "outputs": [
    {
     "name": "stdout",
     "output_type": "stream",
     "text": [
      "Hello, alice\n",
      "How are you?\n"
     ]
    }
   ],
   "source": [
    "# Contoh penerapan callback function\n",
    "def spam(funct, name):\n",
    "    return funct(name)\n",
    "\n",
    "def hello(name):\n",
    "    print(f'Hello, {name}')\n",
    "    if name.capitalize() == 'Alice':\n",
    "        print('How are you?')\n",
    "    else:\n",
    "        print('Who are you?')\n",
    "\n",
    "spam(funct=hello, name='alice')"
   ]
  },
  {
   "attachments": {},
   "cell_type": "markdown",
   "metadata": {},
   "source": [
    "#### **3.2 Calling Other Function**\n",
    "\n",
    "**Di dalam function kita juga dapat memanggil function lain atau disebut Call Stack**. Misalnya Anda melakukan percakapan dengan seseorang. Pertama, Anda berbicara tentang teman Anda, Alice, yang kemudian mengingatkan Anda pada cerita tentang rekan kerja Anda Bob, tetapi pertama-tama Anda harus menjelaskan sesuatu tentang sepupu Anda, Carol. Anda menyelesaikan cerita Anda tentang Carol dan kembali berbicara tentang Bob, dan ketika Anda menyelesaikan cerita Anda tentang Bob, Anda kembali berbicara tentang Alice."
   ]
  },
  {
   "cell_type": "code",
   "execution_count": 2,
   "metadata": {},
   "outputs": [
    {
     "name": "stdout",
     "output_type": "stream",
     "text": [
      "Talking about Alice\n",
      "Talking about Bob\n",
      "Talking about Carol\n",
      "Talking about Carol\n",
      "Talking about Bob again\n",
      "Talking about Alice again\n"
     ]
    }
   ],
   "source": [
    "# Contoh penerapan calling other function\n",
    "def a():\n",
    "    print('Talking about Alice')\n",
    "    b()\n",
    "    print('Talking about Alice again')\n",
    "\n",
    "def b():\n",
    "    print('Talking about Bob')\n",
    "    c()\n",
    "    print('Talking about Bob again')\n",
    "\n",
    "def c():\n",
    "    print('Talking about Carol')\n",
    "    print('Talking about Carol')\n",
    "\n",
    "a()"
   ]
  },
  {
   "attachments": {},
   "cell_type": "markdown",
   "metadata": {},
   "source": [
    "#### **3.3 Recursive Function**\n",
    "\n",
    "**Recursive function adalah kondisi dimana suatu fungsi memanggil atau menjalankan dirinya sendiri**. Misalnya Anda diminta untuk membuat sebuah program yang dapat menghitung mundur dari angka tertentu tanpa menggunakan loop statement. "
   ]
  },
  {
   "cell_type": "code",
   "execution_count": 13,
   "metadata": {},
   "outputs": [
    {
     "name": "stdout",
     "output_type": "stream",
     "text": [
      "5 4 3 2 1 0 "
     ]
    }
   ],
   "source": [
    "# Contoh penerapan recursive function\n",
    "def countdown(counter):\n",
    "    print(counter, end=\" \")\n",
    "    counter -= 1\n",
    "\n",
    "    if(counter >= 0):\n",
    "       countdown(counter)\n",
    "\n",
    "countdown(5)"
   ]
  },
  {
   "attachments": {},
   "cell_type": "markdown",
   "metadata": {},
   "source": [
    "## `4. map() & filter() Function`\n",
    "\n",
    "**Fungsi** `map()` dan `filter()` **merupakan bagian dari built-in function**. Keduanya berperan untuk melakukan proses mapping dan filtering terhadap iterable object dengan menggunakan suatu fungsi lain sebagai argument nya. Contoh dari iterable object yaitu termasuk semua tipe data sequence (list, str, dan tuple) dan beberapa non-sequence seperti dictionary."
   ]
  },
  {
   "attachments": {},
   "cell_type": "markdown",
   "metadata": {},
   "source": [
    "#### **4.1 Lambda Expression**\n",
    "\n",
    "Fungsi sebaris anonim yang terdiri dari ekspresi tunggal yang dievaluasi saat fungsi dipanggil. Sintaks untuk membuat fungsi lambda adalah `lambda [parameter]: ekspresi`"
   ]
  },
  {
   "cell_type": "code",
   "execution_count": 14,
   "metadata": {},
   "outputs": [
    {
     "data": {
      "text/plain": [
       "5"
      ]
     },
     "execution_count": 14,
     "metadata": {},
     "output_type": "execute_result"
    }
   ],
   "source": [
    "# Contoh penggunaan lambda function\n",
    "\n",
    "spam = lambda x, y: x + y\n",
    "spam(2, 3)"
   ]
  },
  {
   "attachments": {},
   "cell_type": "markdown",
   "metadata": {},
   "source": [
    "#### **4.2 map() function**\n",
    "\n",
    "**Fungsi** `map()` **digunakan untuk mengubah value dari item yang disimpan pada suatu collection data type tanpa merubah jumlahnya berdasarkan callback function yang diberikan**. Sebagai contoh, misalnya kita memiliki list `l1` dengan sederetan angka dan kita ingin semuanya dikalikan dua, maka kita dapat menggunakan fungsi `map()` untuk melakukan ini. Cara ini lebih praktis daripada Anda menggunakan looping.\n"
   ]
  },
  {
   "cell_type": "code",
   "execution_count": null,
   "metadata": {},
   "outputs": [],
   "source": [
    "# Contoh penggunaan map()\n",
    "l1 = [1, 2, 3, 4, 5]\n",
    "\n",
    "f1 = lambda x: x * 2\n",
    "l2 = list(map(f1, l1))\n",
    "print(f'Sebelum: {l1}, dan sesudah: {l2}')"
   ]
  },
  {
   "attachments": {},
   "cell_type": "markdown",
   "metadata": {},
   "source": [
    "#### **4.3 filter() function**\n",
    "\n",
    "**Gunakan fungsi** `filter()` **untuk melakukan filtering data pada suatu collection data type**. Berbeda dengan `map()`, **fungsi ini tidak akan merubah nilai item, tetapi akan mengurangi atau menghapus jumlah item nya** berdasarkan callback function yang diberikan. Sebagai contoh, kita dapat menghapus semua angka genap pada suatu list `l1`."
   ]
  },
  {
   "cell_type": "code",
   "execution_count": null,
   "metadata": {},
   "outputs": [],
   "source": [
    "# Contoh penggunaan filter()\n",
    "l1 = [1, 2, 3, 4, 5]\n",
    "\n",
    "f1 = lambda x: x % 2 == 0\n",
    "l2 = list(filter(f1, l1))\n",
    "print(f'Sebelum: {l1}, dan sesudah: {l2}')"
   ]
  }
 ],
 "metadata": {
  "kernelspec": {
   "display_name": "Python 3",
   "language": "python",
   "name": "python3"
  },
  "language_info": {
   "codemirror_mode": {
    "name": "ipython",
    "version": 3
   },
   "file_extension": ".py",
   "mimetype": "text/x-python",
   "name": "python",
   "nbconvert_exporter": "python",
   "pygments_lexer": "ipython3",
   "version": "3.9.16"
  },
  "orig_nbformat": 4,
  "vscode": {
   "interpreter": {
    "hash": "31f2aee4e71d21fbe5cf8b01ff0e069b9275f58929596ceb00d14d90e3e16cd6"
   }
  }
 },
 "nbformat": 4,
 "nbformat_minor": 2
}

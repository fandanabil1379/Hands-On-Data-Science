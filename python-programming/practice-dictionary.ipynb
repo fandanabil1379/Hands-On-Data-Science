{
 "cells": [
  {
   "cell_type": "code",
   "execution_count": 2,
   "metadata": {},
   "outputs": [
    {
     "name": "stdout",
     "output_type": "stream",
     "text": [
      "Kesukaan Film kalian yang sama sebesar 60.0%\n"
     ]
    }
   ],
   "source": [
    "# Q1\n",
    "\n",
    "# Avengers, Hulk, Iron Man 3, Wonder Woman, Batman\n",
    "# Avengers, Hulk, Iron Man 2, Superman, Wonder Woman\n",
    "\n",
    "movie1 = set(input('Masukkan 5 Film Kesukaan anda dipisahkan dengan koma : ').split(','))\n",
    "movie2 = set(input('Masukkan 5 Film Kesukaan teman anda dipisahkan dengan koma : ').split(','))\n",
    "\n",
    "movieIntersection = movie1.intersection(movie2)\n",
    "print(\"Kesukaan Film kalian yang sama sebesar {}%\".format((len(movieIntersection)/len(movie1)) * 100))"
   ]
  },
  {
   "cell_type": "code",
   "execution_count": 51,
   "metadata": {},
   "outputs": [
    {
     "name": "stdout",
     "output_type": "stream",
     "text": [
      "Inventory: \n",
      "gold coin 45\n",
      "rope 1\n",
      "dagger 1\n",
      "ruby 1\n",
      "\n",
      "Total number of item: 48\n"
     ]
    }
   ],
   "source": [
    "# Q2\n",
    "\n",
    "inventory = {'gold coin': 42, 'rope': 1}\n",
    "dragonLoot = ['gold coin', 'dagger', 'gold coin', 'gold coin', 'ruby']\n",
    "\n",
    "def addToInventory(old, new):\n",
    "    for item in new:\n",
    "        if item in old.keys():\n",
    "            old[item] += 1\n",
    "        else:\n",
    "            old[item] = 1\n",
    "            \n",
    "    print('Inventory: ')\n",
    "    for key, value in old.items():\n",
    "        print(f'{key} {value}') \n",
    "\n",
    "    print(f'\\nTotal number of item: {sum(list(old.values()))}')\n",
    "\n",
    "addToInventory(inventory, dragonLoot)"
   ]
  },
  {
   "cell_type": "code",
   "execution_count": 52,
   "metadata": {},
   "outputs": [
    {
     "name": "stdout",
     "output_type": "stream",
     "text": [
      "Non-repeating character: 1\n",
      "Repeating character: r\n"
     ]
    }
   ],
   "source": [
    "# Q3\n",
    "\n",
    "text = \"123PurwadhikaHeroesHeroes\"\n",
    "\n",
    "def repeatingCount(text):\n",
    "    d = {}\n",
    "    flag = None\n",
    "    for char in text:\n",
    "        if char in d.keys():\n",
    "            d[char] += 1\n",
    "        else:\n",
    "            d[char] = 0\n",
    "\n",
    "    for char in text:\n",
    "        if d[char] == 0:\n",
    "            flag = char\n",
    "            print(f'Non-repeating character: {flag}')\n",
    "            break\n",
    "\n",
    "    for char in text:\n",
    "        if d[char] > 1:\n",
    "            flag = char\n",
    "            print(f'Repeating character: {flag}')\n",
    "            break\n",
    "\n",
    "repeatingCount(text)"
   ]
  },
  {
   "cell_type": "code",
   "execution_count": 53,
   "metadata": {},
   "outputs": [],
   "source": [
    "# Q4\n",
    "\n",
    "def check(text):\n",
    "    char = {'a': 0, 'i': 0, 'u': 0, 'e': 0, 'o': 0}\n",
    "\n",
    "    for i in text.lower():\n",
    "        if i in char.keys():\n",
    "            char[i] += 1\n",
    "    \n",
    "    if 0 in char.values():\n",
    "        return False\n",
    "    else:\n",
    "        return True\n",
    "\n",
    "assert check('sEEquOiaL') == True\n",
    "assert check('Squ0iaL') == False\n",
    "assert check('') == False"
   ]
  },
  {
   "cell_type": "code",
   "execution_count": 23,
   "metadata": {},
   "outputs": [],
   "source": [
    "# Q5\n",
    "\n",
    "def cekHeterogram(text):\n",
    "    char = {}\n",
    "    for i in text:\n",
    "        if i.isalpha() != True:\n",
    "            continue\n",
    "        elif i in char.keys():\n",
    "            char[i] += 1\n",
    "        else:\n",
    "            char[i] = 1\n",
    "    \n",
    "    if 2 in char.values():\n",
    "        return False\n",
    "    else:\n",
    "        return True\n",
    "    \n",
    "\n",
    "assert cekHeterogram('purwadhika jogja') == False\n",
    "assert cekHeterogram('jcds 0210') == True\n",
    "assert cekHeterogram('  ') == True"
   ]
  },
  {
   "cell_type": "code",
   "execution_count": 50,
   "metadata": {},
   "outputs": [],
   "source": [
    "# Q6\n",
    "\n",
    "def convertInteger(num):\n",
    "    if num == 0:\n",
    "        return '0'\n",
    "    \n",
    "    DIGITS = {0: '0', 1: '1', 2: '2', 3: '3', 4: '4', 5: '5', 6: '6', 7: '7', 8: '8', 9: '9'}\n",
    "    if num < 0:\n",
    "        isNegative = True\n",
    "        num = -num\n",
    "    else:\n",
    "        isNegative = False\n",
    "\n",
    "    stringNum = ''\n",
    "    while num > 0:\n",
    "        pts = num % 10\n",
    "        stringNum = DIGITS[pts] + stringNum\n",
    "        num //= 10\n",
    "\n",
    "    if isNegative:\n",
    "        return '-' + stringNum\n",
    "    else:\n",
    "        return stringNum\n",
    "\n",
    "assert convertInteger(0) == '0'\n",
    "assert convertInteger(150) == '150'\n",
    "assert convertInteger(1935) == '1935'\n",
    "assert convertInteger(-1234) == '-1234'"
   ]
  }
 ],
 "metadata": {
  "kernelspec": {
   "display_name": "Python 3",
   "language": "python",
   "name": "python3"
  },
  "language_info": {
   "codemirror_mode": {
    "name": "ipython",
    "version": 3
   },
   "file_extension": ".py",
   "mimetype": "text/x-python",
   "name": "python",
   "nbconvert_exporter": "python",
   "pygments_lexer": "ipython3",
   "version": "3.9.16"
  },
  "orig_nbformat": 4,
  "vscode": {
   "interpreter": {
    "hash": "31f2aee4e71d21fbe5cf8b01ff0e069b9275f58929596ceb00d14d90e3e16cd6"
   }
  }
 },
 "nbformat": 4,
 "nbformat_minor": 2
}

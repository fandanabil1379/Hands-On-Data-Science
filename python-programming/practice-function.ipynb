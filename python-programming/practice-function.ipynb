{
 "cells": [
  {
   "cell_type": "code",
   "execution_count": 73,
   "metadata": {},
   "outputs": [],
   "source": [
    "# Q1\n",
    "\n",
    "def check(num: int) -> str: \n",
    "    if(num % 2 == 0):\n",
    "        return 'Genap'\n",
    "    else:\n",
    "        return 'Ganjil'\n",
    "\n",
    "assert list(map(check, [22, 17, 19, 20, 14])) == ['Genap', 'Ganjil', 'Ganjil', 'Genap', 'Genap']"
   ]
  },
  {
   "cell_type": "code",
   "execution_count": 74,
   "metadata": {},
   "outputs": [],
   "source": [
    "# Q2\n",
    "\n",
    "def check(salary: list[int]) -> list[int]:   \n",
    "    return list(filter(lambda num : num * 95/100 > 9000000, salary))\n",
    "\n",
    "assert check([9100000, 9800000, 9500000, 10300000, 9300000]) == [9800000, 9500000, 10300000]"
   ]
  },
  {
   "cell_type": "code",
   "execution_count": 75,
   "metadata": {},
   "outputs": [],
   "source": [
    "# Q3\n",
    "\n",
    "def factorial(num):\n",
    "    if num == 0:\n",
    "        return 1\n",
    "    elif num < 0:\n",
    "        return None\n",
    "    else:\n",
    "        return num * factorial(num-1)\n",
    "\n",
    "assert factorial(0) == 1\n",
    "assert factorial(3) == 6\n",
    "assert factorial(10) == 3628800\n",
    "assert factorial(-10) == None"
   ]
  },
  {
   "cell_type": "code",
   "execution_count": 83,
   "metadata": {},
   "outputs": [],
   "source": [
    "# Q4\n",
    "\n",
    "def timeConvert(totalSeconds):\n",
    "    if totalSeconds == 0:\n",
    "        return '0s'\n",
    "    \n",
    "    hours = 0\n",
    "    while totalSeconds >= 3600:\n",
    "        hours += 1\n",
    "        totalSeconds -= 3600\n",
    "  \n",
    "    minutes = 0\n",
    "    while totalSeconds >= 60:\n",
    "        minutes += 1\n",
    "        totalSeconds -= 60\n",
    "    \n",
    "    seconds = totalSeconds\n",
    "    \n",
    "    out = []\n",
    "    if hours > 0:\n",
    "        out.append(str(hours) + 'h')\n",
    "    if minutes > 0:\n",
    "        out.append(str(minutes) + 'm')\n",
    "    if seconds > 0:\n",
    "        out.append(str(seconds) + 's')\n",
    "\n",
    "    return ' '.join(out)\n",
    "\n",
    "assert timeConvert(0) == '0s'\n",
    "assert timeConvert(30) == '30s'\n",
    "assert timeConvert(60) == '1m'\n",
    "assert timeConvert(90) == '1m 30s'\n",
    "assert timeConvert(3600) == '1h'\n",
    "assert timeConvert(3601) == '1h 1s'\n",
    "assert timeConvert(3661) == '1h 1m 1s'\n",
    "assert timeConvert(90042) == '25h 42s'\n"
   ]
  },
  {
   "cell_type": "code",
   "execution_count": 77,
   "metadata": {},
   "outputs": [],
   "source": [
    "# Q5\n",
    "\n",
    "def area(l, w):\n",
    "    return l * w\n",
    "\n",
    "def volume(l, w, h):\n",
    "    return area(l, w) * h\n",
    "\n",
    "assert area(10, 10) == 100\n",
    "assert area(0, 9999) == 0\n",
    "assert volume(10, 10, 10) == 1000\n",
    "assert volume(5, 8, 10) == 400"
   ]
  },
  {
   "cell_type": "code",
   "execution_count": 78,
   "metadata": {},
   "outputs": [],
   "source": [
    "# Q6\n",
    "\n",
    "def getColor(column, row):\n",
    "    if column < 1 or column > 8 or row < 1 or row > 8:\n",
    "        return ''\n",
    "    if column % 2 == row % 2:\n",
    "        return 'white'\n",
    "    else:\n",
    "        return 'black'\n",
    "\n",
    "assert getColor(1, 1) == 'white'\n",
    "assert getColor(2, 1) == 'black'\n",
    "assert getColor(1, 2) == 'black'\n",
    "assert getColor(8, 8) == 'white'\n",
    "assert getColor(0, 8) == ''\n",
    "assert getColor(2, 9) == ''"
   ]
  },
  {
   "cell_type": "code",
   "execution_count": 79,
   "metadata": {},
   "outputs": [],
   "source": [
    "# Q7\n",
    "\n",
    "def encrypthor(text):\n",
    "    text = text.upper()\n",
    "    out = ''\n",
    "\n",
    "    SYMBOLS = 'ABCDEFGHIJKLMNOPQRSTUVWXYZ'\n",
    "    for char in text:\n",
    "        if char in SYMBOLS:\n",
    "            idx = SYMBOLS.find(char)\n",
    "            idx += 4\n",
    "\n",
    "            if idx >= len(SYMBOLS):\n",
    "                idx -= len(SYMBOLS)\n",
    "            \n",
    "            out += SYMBOLS[idx]\n",
    "        else:\n",
    "            out += char\n",
    "    return out\n",
    "\n",
    "assert encrypthor('Meet me by the rose bushes tonight.') == 'QIIX QI FC XLI VSWI FYWLIW XSRMKLX.'"
   ]
  },
  {
   "cell_type": "code",
   "execution_count": 80,
   "metadata": {},
   "outputs": [],
   "source": [
    "# Q6\n",
    "\n",
    "def isLeapYear(year):\n",
    "    if year % 400 == 0:\n",
    "        return True\n",
    "    elif year % 100 == 0:\n",
    "        return False\n",
    "    elif year % 4 == 0:\n",
    "        return True\n",
    "    else:\n",
    "        return False\n",
    "    \n",
    "assert isLeapYear(1999) == False\n",
    "assert isLeapYear(2000) == True\n",
    "assert isLeapYear(2001) == False\n",
    "assert isLeapYear(2004) == True\n",
    "assert isLeapYear(2100) == False\n",
    "assert isLeapYear(2400) == True"
   ]
  }
 ],
 "metadata": {
  "kernelspec": {
   "display_name": "Python 3",
   "language": "python",
   "name": "python3"
  },
  "language_info": {
   "codemirror_mode": {
    "name": "ipython",
    "version": 3
   },
   "file_extension": ".py",
   "mimetype": "text/x-python",
   "name": "python",
   "nbconvert_exporter": "python",
   "pygments_lexer": "ipython3",
   "version": "3.9.16"
  },
  "orig_nbformat": 4,
  "vscode": {
   "interpreter": {
    "hash": "31f2aee4e71d21fbe5cf8b01ff0e069b9275f58929596ceb00d14d90e3e16cd6"
   }
  }
 },
 "nbformat": 4,
 "nbformat_minor": 2
}

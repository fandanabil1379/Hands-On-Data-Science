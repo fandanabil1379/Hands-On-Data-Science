{
 "cells": [
  {
   "attachments": {},
   "cell_type": "markdown",
   "metadata": {},
   "source": [
    " <p style='text-align: right;'> <span style='color:Blue'> Created by: Shafanda nabil sembodo </p> </span>\n",
    "\n",
    " <h1><p style='text-align: center; font-weight: bold;'> Introduction to Dictionary </p></h1>\n",
    "\n",
    "\n",
    "Pada bab ini, saya akan membahas tipe data Dictionary, yang menyediakan cara yang fleksibel untuk mengakses dan mengatur data. Kemudian, dengan menggabungkan Dictionary dengan pengetahuan Anda tentang List dari bab sebelumnya, Anda akan belajar cara membuat struktur data untuk memecahkan suatu masalah.\n",
    "___"
   ]
  },
  {
   "attachments": {},
   "cell_type": "markdown",
   "metadata": {},
   "source": [
    "#### **1.0 Dictionary Data Type**\n",
    "Dictionary termasuk tipe data yang bersifat mutable atau nilainya dapat dimanipulasi. Dictionary juga memiliki indeks mirip seperti list, tetapi indeks untuk dictionary dapat menggunakan banyak tipe data yang berbeda, bukan hanya bilangan bulat dan tidak harus dimulai dari 0. Indeks untuk dictionary disebut key, sedangkan pasangan antara key dan nilai yang berkaitan disebut key-value. **Sintaksis dictionary diketik dengan tanda kurung, {}, atau menggunakan fungsi dict().**"
   ]
  },
  {
   "cell_type": "code",
   "execution_count": 8,
   "metadata": {},
   "outputs": [
    {
     "data": {
      "text/plain": [
       "{'size': 'fat', 'color': 'gray', 'age': 10}"
      ]
     },
     "execution_count": 8,
     "metadata": {},
     "output_type": "execute_result"
    }
   ],
   "source": [
    "# Contoh membuat dictionary\n",
    "myPet = {'size': 'fat', 'color': 'gray', 'age': 10}\n",
    "myPet"
   ]
  },
  {
   "cell_type": "code",
   "execution_count": 3,
   "metadata": {},
   "outputs": [
    {
     "data": {
      "text/plain": [
       "{'size': 'fat', 'color': 'gray', 'age': 10}"
      ]
     },
     "execution_count": 3,
     "metadata": {},
     "output_type": "execute_result"
    }
   ],
   "source": [
    "# Contoh membuat dictionary dengan fungsi dict()\n",
    "myPet = dict(size='fat', color='gray', age=10)\n",
    "myPet"
   ]
  },
  {
   "attachments": {},
   "cell_type": "markdown",
   "metadata": {},
   "source": [
    "Anda dapat mengakses value dalam dictionary melalui key. Saat Anda mencoba mengakses key yang tidak ada dalam dictionary, Python akan menghasilkan pesan kesalahan `KeyError`, seperti pesan kesalahan `IndexError` pada list. "
   ]
  },
  {
   "cell_type": "code",
   "execution_count": 1,
   "metadata": {},
   "outputs": [
    {
     "name": "stdout",
     "output_type": "stream",
     "text": [
      "Value untuk key \"name\" adalah Zophie\n"
     ]
    },
    {
     "ename": "KeyError",
     "evalue": "'color'",
     "output_type": "error",
     "traceback": [
      "\u001b[0;31m---------------------------------------------------------------------------\u001b[0m",
      "\u001b[0;31mKeyError\u001b[0m                                  Traceback (most recent call last)",
      "Cell \u001b[0;32mIn[1], line 5\u001b[0m\n\u001b[1;32m      2\u001b[0m spam \u001b[39m=\u001b[39m {\u001b[39m'\u001b[39m\u001b[39mname\u001b[39m\u001b[39m'\u001b[39m: \u001b[39m'\u001b[39m\u001b[39mZophie\u001b[39m\u001b[39m'\u001b[39m, \u001b[39m'\u001b[39m\u001b[39mage\u001b[39m\u001b[39m'\u001b[39m: \u001b[39m7\u001b[39m}\n\u001b[1;32m      3\u001b[0m \u001b[39mprint\u001b[39m(\u001b[39mf\u001b[39m\u001b[39m'\u001b[39m\u001b[39mValue untuk key \u001b[39m\u001b[39m\"\u001b[39m\u001b[39mname\u001b[39m\u001b[39m\"\u001b[39m\u001b[39m adalah \u001b[39m\u001b[39m{\u001b[39;00mspam[\u001b[39m\"\u001b[39m\u001b[39mname\u001b[39m\u001b[39m\"\u001b[39m]\u001b[39m}\u001b[39;00m\u001b[39m'\u001b[39m)\n\u001b[0;32m----> 5\u001b[0m spam[\u001b[39m'\u001b[39;49m\u001b[39mcolor\u001b[39;49m\u001b[39m'\u001b[39;49m]\n",
      "\u001b[0;31mKeyError\u001b[0m: 'color'"
     ]
    }
   ],
   "source": [
    "# Contoh mengakses value\n",
    "spam = {'name': 'Zophie', 'age': 7}\n",
    "print(f'Value untuk key \"name\" adalah {spam[\"name\"]}')\n",
    "\n",
    "spam['color']"
   ]
  },
  {
   "attachments": {},
   "cell_type": "markdown",
   "metadata": {},
   "source": [
    "Suatu dictionary dapat berisi dictionary lain, itu bisa diakses menggunakan beberapa keys. Keys pertama menentukan item mana yang akan diakses, dan keys kedua memberikan value dalam dictionary."
   ]
  },
  {
   "cell_type": "code",
   "execution_count": 15,
   "metadata": {},
   "outputs": [
    {
     "name": "stdout",
     "output_type": "stream",
     "text": [
      "Ini adalah item dengan key 91: {'name': 'Zophie', 'age': 12}\n",
      "Ini adalah value dari age dalam key 91: 12\n"
     ]
    }
   ],
   "source": [
    "# Contoh 2d dictionary \n",
    "spam = {\n",
    "    91: {\n",
    "        'name': 'Zophie', \n",
    "        'age': 12,\n",
    "    },\n",
    "    3: {\n",
    "        'name': 'Baron', \n",
    "        'age': 17,\n",
    "    },\n",
    "    32: {\n",
    "        'name': 'John', \n",
    "        'age': 30,\n",
    "    }\n",
    "}\n",
    "print(f'Ini adalah item dengan key 91: {spam[91]}')\n",
    "print(f'Ini adalah value dari age dalam key 91: {spam[91][\"age\"]}')"
   ]
  },
  {
   "attachments": {},
   "cell_type": "markdown",
   "metadata": {},
   "source": [
    "#### **1.1 Dictionary vs List**\n",
    "\n",
    "Berbeda dari list, item dalam dictionary tidak diurutkan. Seandainya Anda memiliki list bernama `spam`, item pertama adalah `spam[0]`, tapi tidak ada item \"pertama\" dalam dictionary. Meskipun urutan item penting untuk menentukan apakah dua list itu identik, tapi tidak masalah dengan urutan pada pasangan key-value, karena **dictionary tidak diurutkan, dan tidak dapat dilakukan slice seperti list**."
   ]
  },
  {
   "cell_type": "code",
   "execution_count": 1,
   "metadata": {},
   "outputs": [
    {
     "name": "stdout",
     "output_type": "stream",
     "text": [
      "Apakah list a dan b identik? False\n",
      "Apakah dictionary a dan b identik? True\n"
     ]
    }
   ],
   "source": [
    "# Membandingkan dua list\n",
    "a = ['cats', 'dogs', 'moose']\n",
    "b = ['dogs', 'moose', 'cats']\n",
    "print(f'Apakah list a dan b identik? {a == b}')\n",
    "\n",
    "# Membandingkan dua dictionary\n",
    "a = {'name': 'Zophie', 'species': 'cat', 'age': '8'}\n",
    "b = {'species': 'cat', 'age': '8', 'name': 'Zophie'}\n",
    "print(f'Apakah dictionary a dan b identik? {a == b}')"
   ]
  },
  {
   "attachments": {},
   "cell_type": "markdown",
   "metadata": {},
   "source": [
    "#### **1.2 Changing Values in a Dictionary with Key**\n",
    "\n",
    "Anda bisa menggunakan key untuk mengubah value pada key tersebut. Misalnya, `spam['color'] = 'blue'` berarti mengubah value pada key `color` menjadi string `blue`."
   ]
  },
  {
   "cell_type": "code",
   "execution_count": 14,
   "metadata": {},
   "outputs": [
    {
     "name": "stdout",
     "output_type": "stream",
     "text": [
      "Dictionary sebelum: {'color': 'red', 'age': 42, 'size': 53}\n",
      "Dictionary sesudah: {'color': 'blue', 'age': 13, 'size': 53}\n"
     ]
    }
   ],
   "source": [
    "# Contoh merubah value pada key tertentu\n",
    "spam = {'color': 'red', 'age': 42, 'size': 53}\n",
    "print(f'Dictionary sebelum: {spam}')\n",
    "\n",
    "spam['color'] = 'blue'\n",
    "spam['age'] = 13\n",
    "print(f'Dictionary sesudah: {spam}')"
   ]
  },
  {
   "attachments": {},
   "cell_type": "markdown",
   "metadata": {},
   "source": [
    "#### **1.3 Adding item in a Dictionary**\n",
    "\n",
    "Anda bisa menambahkan item ke dalam dictionary dengan pasangan key-value. Misalnya, `spam['male'] = True` berarti menambahkan key `male` dengan value `True`."
   ]
  },
  {
   "cell_type": "code",
   "execution_count": 17,
   "metadata": {},
   "outputs": [
    {
     "name": "stdout",
     "output_type": "stream",
     "text": [
      "Dictionary sebelum: {'color': 'red', 'age': 42, 'size': 53}\n",
      "Dictionary sesudah: {'color': 'red', 'age': 42, 'size': 53, 'male': True}\n"
     ]
    }
   ],
   "source": [
    "# Contoh menambahkan pasangan key-value\n",
    "spam = {'color': 'red', 'age': 42, 'size':53}\n",
    "print(f'Dictionary sebelum: {spam}')\n",
    "\n",
    "spam['male'] = True\n",
    "print(f'Dictionary sesudah: {spam}')"
   ]
  },
  {
   "attachments": {},
   "cell_type": "markdown",
   "metadata": {},
   "source": [
    "#### **1.4 Removing Item from Dictionary**\n",
    "\n",
    "Anda bisa menghapus item dalam dictionary dengan `del statements, fungsi pop(), fungsi popitem(), dan fungsi clear()`. Perbedaan mereka yaitu:\n",
    "\n",
    "* `del` digunakan ketika Anda mengetahui key yang ingin Anda hapus dari dictionary. \n",
    "\n",
    "* `pop()` bisa digunakan seperti statement del.\n",
    "\n",
    "* `popitem()` tepat Anda gunakan ketika ingin menghapus item terkahir.\n",
    "\n",
    "* `clear()` Anda gunakan ketika ingin menghapus semua item dalam dictionary."
   ]
  },
  {
   "cell_type": "code",
   "execution_count": 18,
   "metadata": {},
   "outputs": [
    {
     "name": "stdout",
     "output_type": "stream",
     "text": [
      "Hasil sebelum: {'color': 'red', 'age': 42, 'size': 53}\n",
      "Hasil sesudah: {'color': 'red', 'size': 53}\n"
     ]
    }
   ],
   "source": [
    "# Menghapus item dengan del statements\n",
    "spam = {'color': 'red', 'age': 42, 'size': 53}\n",
    "print(f'Hasil sebelum: {spam}')\n",
    "\n",
    "del spam['age']\n",
    "print(f'Hasil sesudah: {spam}')"
   ]
  },
  {
   "cell_type": "code",
   "execution_count": 19,
   "metadata": {},
   "outputs": [
    {
     "name": "stdout",
     "output_type": "stream",
     "text": [
      "Hasil sebelum: {'color': 'red', 'age': 42, 'size': 53}\n",
      "Hasil sesudah: {'color': 'red', 'size': 53}\n"
     ]
    }
   ],
   "source": [
    "# Menghapus item dengan fungsi pop()\n",
    "spam = {'color': 'red', 'age': 42, 'size':53}\n",
    "print(f'Hasil sebelum: {spam}')\n",
    "\n",
    "spam.pop('age')\n",
    "print(f'Hasil sesudah: {spam}')"
   ]
  },
  {
   "cell_type": "code",
   "execution_count": 20,
   "metadata": {},
   "outputs": [
    {
     "name": "stdout",
     "output_type": "stream",
     "text": [
      "Hasil sebelum: {'color': 'red', 'male': True, 'age': 42, 'size': 53}\n",
      "Hasil sesudah: {'color': 'red', 'male': True, 'age': 42}\n"
     ]
    }
   ],
   "source": [
    "# Menghapus item dengan fungsi popitem()\n",
    "spam = {'color': 'red', 'age': 42, 'size': 53}\n",
    "print(f'Hasil sebelum: {spam}')\n",
    "\n",
    "spam.popitem()\n",
    "print(f'Hasil sesudah: {spam}')"
   ]
  },
  {
   "cell_type": "code",
   "execution_count": 21,
   "metadata": {},
   "outputs": [
    {
     "name": "stdout",
     "output_type": "stream",
     "text": [
      "Hasil sebelum: {'color': 'red', 'age': 42, 'size': 53}\n",
      "Hasil sesudah: {}\n"
     ]
    }
   ],
   "source": [
    "# Menghapus item dengan fungsi clear()\n",
    "spam = {'color': 'red', 'age': 42, 'size': 53}\n",
    "print(f'Hasil sebelum: {spam}')\n",
    "\n",
    "spam.clear()\n",
    "print(f'Hasil sesudah: {spam}')"
   ]
  },
  {
   "attachments": {},
   "cell_type": "markdown",
   "metadata": {},
   "source": [
    "Mencoba menghapus item yang tidak ada dalam dictionary dengan del statements atau pop(), akan mengakibatkan kesalahan `KeyError`."
   ]
  },
  {
   "attachments": {},
   "cell_type": "markdown",
   "metadata": {},
   "source": [
    "#### **1.5 The keys(), values(), and items() Methods**\n",
    "Ada tiga metode pada dictionary yang akan mengembalikan item seperti list yaitu `keys(), values(), dan items()`. Masing-masing dari mereka dapat Anda digunakan dalam loop statements. Perbedaan ketiganya yaitu:\n",
    "\n",
    "* `items()` digunakan ketika hendak mengakses pasangan key-value. \n",
    "\n",
    "* `keys()` bisa digunakan saat Anda hanya ingin mengakses keys.\n",
    "\n",
    "* `values()` tepat Anda gunakan ketika hanya ingin menagkses values."
   ]
  },
  {
   "cell_type": "code",
   "execution_count": 27,
   "metadata": {},
   "outputs": [
    {
     "name": "stdout",
     "output_type": "stream",
     "text": [
      "dict_items([('color', 'red'), ('age', 42), ('size', 53)])\n",
      "Key: color, value red\n",
      "Key: age, value 42\n",
      "Key: size, value 53\n"
     ]
    }
   ],
   "source": [
    "spam = {'color': 'red', 'age': 42, 'size': 53}\n",
    "\n",
    "# Metode items()\n",
    "# Tanpa menggunakan perulangan\n",
    "print(spam.items())\n",
    "\n",
    "# Dengan perulangan\n",
    "for k, v in spam.items():\n",
    "    print(f'Key: {k}, value {v}')"
   ]
  },
  {
   "cell_type": "code",
   "execution_count": 15,
   "metadata": {},
   "outputs": [
    {
     "name": "stdout",
     "output_type": "stream",
     "text": [
      "dict_keys(['color', 'age', 'size'])\n",
      "color\n",
      "age\n",
      "size\n"
     ]
    }
   ],
   "source": [
    "# Metode keys()\n",
    "# Tanpa menggunakan perulangan\n",
    "print(spam.keys())\n",
    "\n",
    "# Dengan perulangan\n",
    "for v in spam.keys():\n",
    "    print(v)"
   ]
  },
  {
   "cell_type": "code",
   "execution_count": 16,
   "metadata": {},
   "outputs": [
    {
     "name": "stdout",
     "output_type": "stream",
     "text": [
      "dict_values(['red', 42, 53])\n",
      "red\n",
      "42\n",
      "53\n"
     ]
    }
   ],
   "source": [
    "# Metode values()\n",
    "# Tanpa menggunakan perulangan\n",
    "print(spam.values())\n",
    "\n",
    "# Dengan perulangan\n",
    "for v in spam.values():\n",
    "    print(v)"
   ]
  },
  {
   "attachments": {},
   "cell_type": "markdown",
   "metadata": {},
   "source": [
    "Perhatikan bahwa `dict_items, dict_keys, dan dict_values` **ketiganya mengeluarkan tipe data list. Untuk dict_items, pasangan key-value disimpan dalam bentuk tuple**. Anda perlu mengurainya ketika hendak memanipulasi key-value.  "
   ]
  },
  {
   "attachments": {},
   "cell_type": "markdown",
   "metadata": {},
   "source": [
    "#### **1.6 Checking Whether a Key or Value Exists in a Dictionary**\n",
    "\n",
    "Operator `in dan not in` dapat memeriksa apakah suatu nilai ada dalam daftar. Anda juga dapat menggunakan operator ini untuk melihat apakah ada key atau value tertentu dalam Dictionary. **Ekspresi ini akan menghasilkan nilai Boolean.**"
   ]
  },
  {
   "cell_type": "code",
   "execution_count": 31,
   "metadata": {},
   "outputs": [
    {
     "name": "stdout",
     "output_type": "stream",
     "text": [
      "Apakah age merupakan keys?: True\n",
      "Apakah baron merupakan values?: True\n"
     ]
    }
   ],
   "source": [
    "# Contoh cara cek membership\n",
    "spam = {'color': 'red', 'age': 42, 'size': 53}\n",
    "\n",
    "print(f'Apakah age merupakan keys?: {3011 in spam.keys()}')\n",
    "print(f'Apakah baron merupakan values?: {\"baron\" not in spam.keys()}')"
   ]
  },
  {
   "attachments": {},
   "cell_type": "markdown",
   "metadata": {},
   "source": [
    "#### **1.7 Getting a Dictionary Length with the len() Function**\n",
    "\n",
    "Fungsi `len()` akan mengembalikan panjang dictionary atau jumlah pasangan keys-values yang ada dalam dictionary, serupa dengan fungsi menghitung jumlah item dalam list. "
   ]
  },
  {
   "cell_type": "code",
   "execution_count": 36,
   "metadata": {},
   "outputs": [
    {
     "name": "stdout",
     "output_type": "stream",
     "text": [
      "Panjang dari dictionary spam adalah 3\n"
     ]
    }
   ],
   "source": [
    "# Contoh penerapan fungsi len()\n",
    "spam = {'color': 'red', 'age': 42, 'size': 53}\n",
    "print(f'Panjang dari dictionary spam adalah {len(spam)}')"
   ]
  },
  {
   "attachments": {},
   "cell_type": "markdown",
   "metadata": {},
   "source": [
    "#### **1.9 Duplicating Items from Dictionary with copy() Methods**\n",
    "\n",
    "Menyimpan dictionary sebagai variabel baru menggunakan operator sama dengan, dapat menimbulkan masalah. **Saat Anda memodifikasi item dalam dictionary yang baru, maka item dalam dictionary asli juga ikut termodifikasi**. Hal itu terjadi karena item dalam dictionary baru merujuk ke objek yang sama. Jika Anda memerlukan dictionary asli tidak berubah, Anda dapat menggunakan metode `copy()`. "
   ]
  },
  {
   "cell_type": "code",
   "execution_count": 24,
   "metadata": {},
   "outputs": [
    {
     "name": "stdout",
     "output_type": "stream",
     "text": [
      "Hasil sebelum: {'color': 'red', 'age': 42, 'size': 53}\n",
      "Hasil sesudah: {'color': 'red', 'age': 42, 'size': 53, 'name': 'Baron'}\n"
     ]
    }
   ],
   "source": [
    "# Tanpa metode copy()\n",
    "spam = {'color': 'red', 'age': 42, 'size':53}\n",
    "print(f'Hasil sebelum: {spam}')\n",
    "\n",
    "newSpam = spam\n",
    "newSpam.update({'name': 'Baron'})\n",
    "print(f'Hasil sesudah: {spam}')"
   ]
  },
  {
   "cell_type": "code",
   "execution_count": 25,
   "metadata": {},
   "outputs": [
    {
     "name": "stdout",
     "output_type": "stream",
     "text": [
      "Hasil sebelum: {'color': 'red', 'age': 42, 'size': 53}\n",
      "Hasil sesudah: {'color': 'red', 'age': 42, 'size': 53}\n"
     ]
    }
   ],
   "source": [
    "# Menggunakan metode copy()\n",
    "spam = {'color': 'red', 'age': 42, 'size':53}\n",
    "print(f'Hasil sebelum: {spam}')\n",
    "\n",
    "newSpam = spam.copy()\n",
    "newSpam.update({'name': 'Baron'})\n",
    "print(f'Hasil sesudah: {spam}')"
   ]
  },
  {
   "attachments": {},
   "cell_type": "markdown",
   "metadata": {},
   "source": [
    "#### **1.9 The get() Methods**\n",
    "Operator `in dan not in` bisa Anda gunakan untuk memeriksa apakah ada keys di dictionary, namun mereka hanya mengeluarkan True atau False. Untungnya, Dictionary memiliki metode `get()` yang mengambil dua argumen: **keys dari nilai yang akan diambil dan nilai fallback yang akan dikembalikan jika keys tersebut tidak ada**. Metode ini bisa membantu Anda untuk menghindari error."
   ]
  },
  {
   "cell_type": "code",
   "execution_count": 28,
   "metadata": {},
   "outputs": [
    {
     "data": {
      "text/plain": [
       "'Tidak ada key bernama name'"
      ]
     },
     "execution_count": 28,
     "metadata": {},
     "output_type": "execute_result"
    }
   ],
   "source": [
    "spam = {'color': 'red', 'age': 42, 'size': 53}\n",
    "\n",
    "# Dengan metode get()\n",
    "spam.get('name', 'Tidak ada key bernama name')\n",
    "\n",
    "# Tanpa metode get()\n",
    "spam['name']"
   ]
  },
  {
   "attachments": {},
   "cell_type": "markdown",
   "metadata": {},
   "source": [
    "#### **1.10 Updating Item to Dictionary with the update() Methods**\n",
    "\n",
    "Menambahkan item baru ke dalam dictinoary, selain menggunakan teknik assignment, Anda bisa gunakan metode `update()`. Metode ini lebih memberikan keluasan bagi Anda, karena secara bersamaan Anda dapat menambah item baru atau mengubah values yang sudah ada."
   ]
  },
  {
   "cell_type": "code",
   "execution_count": null,
   "metadata": {},
   "outputs": [],
   "source": [
    "spam = {'color': 'red', 'age': 42, 'size': 53}\n",
    "spam['male'] = True\n",
    "spam['name'] = 'Zophie'"
   ]
  },
  {
   "cell_type": "code",
   "execution_count": 29,
   "metadata": {},
   "outputs": [
    {
     "name": "stdout",
     "output_type": "stream",
     "text": [
      "Hasil sebelum: {'color': 'red', 'age': 42, 'size': 53}\n",
      "Hasil sesudah: {'color': 'blue', 'age': 42, 'size': 53, 'male': True, 'name': 'ZOPHIOE'}\n"
     ]
    }
   ],
   "source": [
    "# Contoh penggunaan metode update()\n",
    "spam = {'color': 'red', 'age': 42, 'size': 53}\n",
    "print(f'Hasil sebelum: {spam}')\n",
    "\n",
    "spam.update({\n",
    "    'color': 'blue', \n",
    "    'male': True,\n",
    "    'name': 'ZOPHIOE'\n",
    "    }\n",
    ")\n",
    "print(f'Hasil sesudah: {spam}')"
   ]
  }
 ],
 "metadata": {
  "kernelspec": {
   "display_name": "Python 3",
   "language": "python",
   "name": "python3"
  },
  "language_info": {
   "codemirror_mode": {
    "name": "ipython",
    "version": 3
   },
   "file_extension": ".py",
   "mimetype": "text/x-python",
   "name": "python",
   "nbconvert_exporter": "python",
   "pygments_lexer": "ipython3",
   "version": "3.9.16"
  },
  "orig_nbformat": 4,
  "vscode": {
   "interpreter": {
    "hash": "31f2aee4e71d21fbe5cf8b01ff0e069b9275f58929596ceb00d14d90e3e16cd6"
   }
  }
 },
 "nbformat": 4,
 "nbformat_minor": 2
}

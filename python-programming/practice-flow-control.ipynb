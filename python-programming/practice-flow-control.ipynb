{
 "cells": [
  {
   "cell_type": "code",
   "execution_count": 2,
   "metadata": {},
   "outputs": [
    {
     "name": "stdout",
     "output_type": "stream",
     "text": [
      "Bilangan Ganjil\n"
     ]
    }
   ],
   "source": [
    "# Q1\n",
    "\n",
    "number = int(input(\"Silahkan masukkan angka: \"))\n",
    "if number % 2 == 0:\n",
    "    print('Bilangan Genap')\n",
    "else:\n",
    "    print('Bilangan Ganjil')"
   ]
  },
  {
   "cell_type": "code",
   "execution_count": 16,
   "metadata": {},
   "outputs": [
    {
     "name": "stdout",
     "output_type": "stream",
     "text": [
      "IMT = 19.835, Ideal\n"
     ]
    }
   ],
   "source": [
    "# Q2\n",
    "\n",
    "weight = int(input(\"Masukkan Massa(kg) : \"))\n",
    "height = int(input(\"Masukkan Tinggi(cm) : \"))\n",
    "\n",
    "IMT = round(weight/((height/100)**2), 3)\n",
    "\n",
    "if IMT < 18.5:\n",
    "    text = \"Kurang\"\n",
    "elif IMT >= 18.5 and IMT <= 24.9:\n",
    "    text = \"Ideal\"\n",
    "elif IMT > 24.9 and IMT <= 29.9:\n",
    "    text = \"Berlebih\"\n",
    "elif IMT > 29.9 and IMT <= 39.9:\n",
    "    text = \"Sangat berlebih\"\n",
    "else :\n",
    "    text = \"Obesitas\"\n",
    "\n",
    "print(f\"IMT = {IMT}, {text}\")"
   ]
  },
  {
   "cell_type": "code",
   "execution_count": 3,
   "metadata": {},
   "outputs": [
    {
     "name": "stdout",
     "output_type": "stream",
     "text": [
      "* * * * * \n",
      "* * * * \n",
      "* * * \n",
      "* * \n",
      "* \n",
      "* * \n",
      "* * * \n",
      "* * * * \n",
      "* * * * * \n",
      "\n"
     ]
    }
   ],
   "source": [
    "# Q3\n",
    "\n",
    "stars = ''\n",
    "size = 5\n",
    "\n",
    "for i in range(size) :\n",
    "    for j in range(size - i) :\n",
    "        stars += '* '\n",
    "    stars += '\\n'\n",
    "\n",
    "for i in range(1, size) :\n",
    "    for j in range(i + 1) :\n",
    "        stars += '* '\n",
    "    stars += '\\n'\n",
    "\n",
    "print(stars)"
   ]
  },
  {
   "cell_type": "code",
   "execution_count": 15,
   "metadata": {},
   "outputs": [
    {
     "name": "stdout",
     "output_type": "stream",
     "text": [
      "          * \n",
      "        * * * \n",
      "      * * * * * \n",
      "    * * * * * * * \n",
      "  * * * * * * * * * \n",
      "    * * * * * * * \n",
      "      * * * * * \n",
      "        * * * \n",
      "          * \n",
      "\n"
     ]
    }
   ],
   "source": [
    "# Q3\n",
    "\n",
    "stars = ''\n",
    "size = 5\n",
    "\n",
    "for i in range(size) :\n",
    "    for j in range(size - i) :\n",
    "        stars += '  '\n",
    "    for k in range(i * 2 + 1) :\n",
    "        stars += '* '\n",
    "    stars += '\\n'\n",
    "\n",
    "for i in range(1, size) :\n",
    "    for j in range(i + 1) :\n",
    "        stars += '  '\n",
    "    for k in range(2 * (size - i) - 1) :\n",
    "        stars += '* '\n",
    "    stars += '\\n'\n",
    "\n",
    "print(stars)"
   ]
  },
  {
   "cell_type": "code",
   "execution_count": 10,
   "metadata": {},
   "outputs": [
    {
     "name": "stdout",
     "output_type": "stream",
     "text": [
      "\"bab\" appeared 3 time\n"
     ]
    }
   ],
   "source": [
    "# Q4\n",
    "\n",
    "spam = 'ababaababbbbcccbabcc'\n",
    "word = 'bab'\n",
    "\n",
    "count = 0\n",
    "for i in range(len(spam)):\n",
    "    if spam[i: i+len(word)] == word:\n",
    "        count += 1\n",
    "\n",
    "print(f'\"{word}\" appeared {count} time')"
   ]
  },
  {
   "cell_type": "code",
   "execution_count": 22,
   "metadata": {},
   "outputs": [
    {
     "name": "stdout",
     "output_type": "stream",
     "text": [
      "False\n"
     ]
    }
   ],
   "source": [
    "# Q5\n",
    "\n",
    "spam = 'oOxxX'\n",
    "\n",
    "o = 0\n",
    "x = 0\n",
    "for i in spam:\n",
    "    if i == 'o':\n",
    "        o += 1\n",
    "    elif i == 'x':\n",
    "        x += 1\n",
    "\n",
    "print(x == o)"
   ]
  },
  {
   "cell_type": "code",
   "execution_count": 12,
   "metadata": {},
   "outputs": [
    {
     "name": "stdout",
     "output_type": "stream",
     "text": [
      "153 is narcissistic number\n"
     ]
    }
   ],
   "source": [
    "# Q6\n",
    "\n",
    "spam = 153\n",
    "\n",
    "val = 0\n",
    "for x in str(spam):\n",
    "    val += int(x)**len(str(spam))\n",
    "\n",
    "if val == spam:\n",
    "    print(f'{spam} is narcissistic number')\n",
    "else:\n",
    "    print(f'not narcissistic number')"
   ]
  },
  {
   "cell_type": "code",
   "execution_count": 25,
   "metadata": {},
   "outputs": [
    {
     "name": "stdout",
     "output_type": "stream",
     "text": [
      "1 2 Fizz 4 Buzz Fizz 7 8 Fizz Buzz "
     ]
    }
   ],
   "source": [
    "# Q7\n",
    "\n",
    "import sys\n",
    "\n",
    "nums = input('Enter a number (greater than 0) or QUIT : ')\n",
    "\n",
    "if nums.upper() != 'QUIT':\n",
    "    for num in range(1, int(nums)+1):\n",
    "        if num%3 == 0 and num%5 == 0:\n",
    "            print('FizzBuzz', end=' ')\n",
    "        elif num%3 == 0:\n",
    "            print('Fizz', end=' ')\n",
    "        elif num%5 == 0: \n",
    "            print('Buzz', end=' ')\n",
    "        else:\n",
    "            print(num, end=' ')\n",
    "else:\n",
    "    sys.exit()"
   ]
  },
  {
   "cell_type": "code",
   "execution_count": 27,
   "metadata": {},
   "outputs": [
    {
     "name": "stdout",
     "output_type": "stream",
     "text": [
      "Expected result: The Fox and dog.\n"
     ]
    }
   ],
   "source": [
    "# Q8\n",
    "\n",
    "text = 'The Fox and fox.'\n",
    "old = 'fox' \n",
    "new = 'dog'\n",
    "\n",
    "i = 0\n",
    "replace = ''\n",
    "while i < len(text):\n",
    "    if text[i: i+len(old)] == old:\n",
    "        replace += new\n",
    "        i += len(old)\n",
    "    else:\n",
    "        replace += text[i]\n",
    "        i += 1\n",
    "\n",
    "print(f'Expected result: {replace}')"
   ]
  },
  {
   "cell_type": "code",
   "execution_count": 29,
   "metadata": {},
   "outputs": [
    {
     "name": "stdout",
     "output_type": "stream",
     "text": [
      "26 13 40 20 10 5 16 8 4 2 1 \n"
     ]
    }
   ],
   "source": [
    "# Q9\n",
    "\n",
    "import sys\n",
    "\n",
    "num = input('Enter a number (greater than 0) or QUIT : ')\n",
    "out = ''\n",
    "\n",
    "if num.upper() != 'QUIT':\n",
    "    num = int(num)\n",
    "    out = f'{num} '\n",
    "\n",
    "    while num != 1 and num > 0:\n",
    "        if int(num) % 2 == 1:\n",
    "            num = 3 * num + 1\n",
    "        else:\n",
    "            num = num // 2\n",
    "        out += f'{num} '\n",
    "        \n",
    "    print(out)\n",
    "    \n",
    "else:\n",
    "    sys.exit()"
   ]
  },
  {
   "cell_type": "code",
   "execution_count": 61,
   "metadata": {},
   "outputs": [
    {
     "name": "stdout",
     "output_type": "stream",
     "text": [
      "0, 1, 1, 2, 3, 5, 8, 13, 21, 34"
     ]
    }
   ],
   "source": [
    "# Q10\n",
    "\n",
    "num = input('Enter the Nth Fibonacci number you wish to calculate or QUIT to quit: ')\n",
    "\n",
    "if num.isdecimal() and int(num) != 0:\n",
    "    num = int(num)\n",
    "    if num == 1:\n",
    "        print('0')\n",
    "    elif num == 2:\n",
    "        print('0, 1')\n",
    "    else:\n",
    "        toLastNumber = 0\n",
    "        lastNumber = 1\n",
    "        nFibonaci = 2\n",
    "        print('0, 1, ', end='')\n",
    "\n",
    "        while True:\n",
    "            nextNumber = toLastNumber + lastNumber\n",
    "            nFibonaci += 1\n",
    "            print(nextNumber, end='')\n",
    "\n",
    "            if nFibonaci == num:\n",
    "                break\n",
    "\n",
    "            print(', ', end='')\n",
    "\n",
    "            toLastNumber = lastNumber\n",
    "            lastNumber = nextNumber\n",
    "    \n",
    "elif num.upper() != 'QUIT':\n",
    "    sys.exit()"
   ]
  },
  {
   "cell_type": "code",
   "execution_count": 32,
   "metadata": {},
   "outputs": [
    {
     "name": "stdout",
     "output_type": "stream",
     "text": [
      "Key #0: QIIX QI FC XLI VSWI FYWLIW XSRMKLX.\n",
      "Key #1: PHHW PH EB WKH URVH EXVKHV WRQLJKW.\n",
      "Key #2: OGGV OG DA VJG TQUG DWUJGU VQPKIJV.\n",
      "Key #3: NFFU NF CZ UIF SPTF CVTIFT UPOJHIU.\n",
      "Key #4: MEET ME BY THE ROSE BUSHES TONIGHT.\n",
      "Key #5: LDDS LD AX SGD QNRD ATRGDR SNMHFGS.\n",
      "Key #6: KCCR KC ZW RFC PMQC ZSQFCQ RMLGEFR.\n",
      "Key #7: JBBQ JB YV QEB OLPB YRPEBP QLKFDEQ.\n",
      "Key #8: IAAP IA XU PDA NKOA XQODAO PKJECDP.\n",
      "Key #9: HZZO HZ WT OCZ MJNZ WPNCZN OJIDBCO.\n",
      "Key #10: GYYN GY VS NBY LIMY VOMBYM NIHCABN.\n",
      "Key #11: FXXM FX UR MAX KHLX UNLAXL MHGBZAM.\n",
      "Key #12: EWWL EW TQ LZW JGKW TMKZWK LGFAYZL.\n",
      "Key #13: DVVK DV SP KYV IFJV SLJYVJ KFEZXYK.\n",
      "Key #14: CUUJ CU RO JXU HEIU RKIXUI JEDYWXJ.\n",
      "Key #15: BTTI BT QN IWT GDHT QJHWTH IDCXVWI.\n",
      "Key #16: ASSH AS PM HVS FCGS PIGVSG HCBWUVH.\n",
      "Key #17: ZRRG ZR OL GUR EBFR OHFURF GBAVTUG.\n",
      "Key #18: YQQF YQ NK FTQ DAEQ NGETQE FAZUSTF.\n",
      "Key #19: XPPE XP MJ ESP CZDP MFDSPD EZYTRSE.\n",
      "Key #20: WOOD WO LI DRO BYCO LECROC DYXSQRD.\n",
      "Key #21: VNNC VN KH CQN AXBN KDBQNB CXWRPQC.\n",
      "Key #22: UMMB UM JG BPM ZWAM JCAPMA BWVQOPB.\n",
      "Key #23: TLLA TL IF AOL YVZL IBZOLZ AVUPNOA.\n",
      "Key #24: SKKZ SK HE ZNK XUYK HAYNKY ZUTOMNZ.\n",
      "Key #25: RJJY RJ GD YMJ WTXJ GZXMJX YTSNLMY.\n"
     ]
    }
   ],
   "source": [
    "# Q11\n",
    "\n",
    "response = input('Enter the message to hack : ').upper()\n",
    "\n",
    "SYMBOLS = 'ABCDEFGHIJKLMNOPQRSTUVWXYZ'\n",
    "for key in range(len(SYMBOLS)):\n",
    "    out = ''\n",
    "    for char in response:\n",
    "        if char in SYMBOLS:\n",
    "            idx = SYMBOLS.find(char)\n",
    "            idx -= key\n",
    "\n",
    "            if idx < 0:\n",
    "                idx += len(SYMBOLS)\n",
    "            \n",
    "            out += SYMBOLS[idx]\n",
    "        else:\n",
    "            out += char\n",
    "\n",
    "    print(f'Key #{key}: {out}')"
   ]
  },
  {
   "cell_type": "code",
   "execution_count": null,
   "metadata": {},
   "outputs": [],
   "source": []
  }
 ],
 "metadata": {
  "kernelspec": {
   "display_name": "Python 3",
   "language": "python",
   "name": "python3"
  },
  "language_info": {
   "codemirror_mode": {
    "name": "ipython",
    "version": 3
   },
   "file_extension": ".py",
   "mimetype": "text/x-python",
   "name": "python",
   "nbconvert_exporter": "python",
   "pygments_lexer": "ipython3",
   "version": "3.9.16"
  },
  "orig_nbformat": 4
 },
 "nbformat": 4,
 "nbformat_minor": 2
}

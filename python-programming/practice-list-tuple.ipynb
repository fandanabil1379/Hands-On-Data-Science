{
 "cells": [
  {
   "cell_type": "code",
   "execution_count": 14,
   "metadata": {},
   "outputs": [
    {
     "name": "stdout",
     "output_type": "stream",
     "text": [
      "Minimum value: 1\n",
      "Maximum value: 89\n"
     ]
    }
   ],
   "source": [
    "# Q1\n",
    "\n",
    "nums = [41, 5, 1, 3, 89, 32]\n",
    "minIdx = 0\n",
    "maxIdx = 0\n",
    "\n",
    "for i, num in enumerate(nums):\n",
    "    if num > nums[maxIdx]:\n",
    "        maxIdx = i\n",
    "    elif num < nums[minIdx]:\n",
    "        minIdx = i\n",
    "\n",
    "print(f'Minimum value: {nums[minIdx]}')\n",
    "print(f'Maximum value: {nums[maxIdx]}')"
   ]
  },
  {
   "cell_type": "code",
   "execution_count": 15,
   "metadata": {},
   "outputs": [
    {
     "name": "stdout",
     "output_type": "stream",
     "text": [
      "Setelah diurutkan: [1, 3, 5, 32, 41, 89]\n"
     ]
    }
   ],
   "source": [
    "# Q2\n",
    "\n",
    "nums = [41, 5, 1, 3, 89, 32]\n",
    "\n",
    "for i in range(len(nums) - 1):\n",
    "    for j in range(i, len(nums)):\n",
    "        if nums[i] > nums[j]:\n",
    "            nums[i], nums[j] = nums[j], nums[i]\n",
    "\n",
    "print(f'Setelah diurutkan: {nums}')"
   ]
  },
  {
   "cell_type": "code",
   "execution_count": 47,
   "metadata": {},
   "outputs": [],
   "source": [
    "# Q3 \n",
    "\n",
    "def getSmallest(nums):\n",
    "    if len(nums) == 0:\n",
    "        return None\n",
    "\n",
    "    smallest = nums[0]\n",
    "    for num in nums:\n",
    "        if num < smallest:\n",
    "            smallest = num\n",
    "    return smallest\n",
    "\n",
    "assert getSmallest([28, 25, 42, 2, 28]) == 2\n",
    "assert getSmallest([1]) == 1\n",
    "assert getSmallest([]) == None"
   ]
  },
  {
   "cell_type": "code",
   "execution_count": 39,
   "metadata": {},
   "outputs": [],
   "source": [
    "# Q4\n",
    "\n",
    "def sortTuple(nums):  \n",
    "    nums = list(nums)\n",
    "    for i in range(0, len(nums)): \n",
    "        for j in range(0, len(nums)-1-i): \n",
    "            if (nums[j][-1] > nums[j + 1][-1]): \n",
    "                temp = nums[j] \n",
    "                nums[j] = nums[j + 1] \n",
    "                nums[j+1] = temp \n",
    "    return tuple(nums)\n",
    "   \n",
    "assert sortTuple((('a', 1), ('b', 3), ('c', 5), ('d', 2))) == (('a', 1), ('d', 2), ('b', 3), ('c', 5))"
   ]
  },
  {
   "cell_type": "code",
   "execution_count": 40,
   "metadata": {},
   "outputs": [],
   "source": [
    "# Q5\n",
    "\n",
    "def findIndex(nums, target):\n",
    "    answer = []\n",
    "    for i, val in enumerate(nums):\n",
    "        if (target - val) in nums:\n",
    "            answer.append(i)\n",
    "    return answer\n",
    "\n",
    "assert findIndex([2, 7, 11, 15], 9) == [0, 1]"
   ]
  },
  {
   "cell_type": "code",
   "execution_count": 41,
   "metadata": {},
   "outputs": [],
   "source": [
    "# Q6\n",
    "\n",
    "def addList(l1, l2):\n",
    "    num1 = ''\n",
    "    for i in l1[::-1]:\n",
    "        num1 += str(i)\n",
    "\n",
    "    num2 = ''\n",
    "    for i in l2[::-1]:\n",
    "        num2 += str(i)\n",
    "\n",
    "    out = [int(x) for x in str(int(num1) + int(num2))]\n",
    "\n",
    "    return out[::-1]\n",
    "\n",
    "assert addList([2, 4, 3], [5, 6, 4]) == [7, 0, 8]"
   ]
  },
  {
   "cell_type": "code",
   "execution_count": 42,
   "metadata": {},
   "outputs": [],
   "source": [
    "# Q7\n",
    "\n",
    "def insertList(l1, l2):\n",
    "    new, i = [], 0\n",
    "    for i, val in enumerate(l1):\n",
    "        if val[1] < l2[0]: \n",
    "            new += val\n",
    "        elif val[0] > l2[1]: \n",
    "            i -= 1\n",
    "            break\n",
    "        else: \n",
    "            l2[0] = min(val[0], l2[0]) \n",
    "            l2[1] = max(val[1], l2[1])\n",
    "\n",
    "    return [new] + [l2] + l1[i + 1:]\n",
    "\n",
    "assert insertList([[1, 2], [3, 5], [6, 7], [8, 10], [12, 16]], [4, 8]) == [[1, 2], [3, 10], [12, 16]]"
   ]
  },
  {
   "cell_type": "code",
   "execution_count": 15,
   "metadata": {},
   "outputs": [],
   "source": [
    "# Q8\n",
    "\n",
    "def mergeTwoLists(l1, l2):\n",
    "    result = []\n",
    "    i1 = 0 \n",
    "    i2 = 0\n",
    "\n",
    "    while i1 < len(l1) and i2 < len(l2):\n",
    "        if l1[i1] < l2[i2]:\n",
    "            result.append(l1[i1])\n",
    "            i1 += 1 \n",
    "        else:\n",
    "            result.append(l2[i2])\n",
    "            i2 += 1\n",
    "\n",
    "    if i1 < len(l1):\n",
    "        for j in range(i1, len(l1)):\n",
    "            result.append(l1[j])\n",
    "\n",
    "    if i2 < len(l2):\n",
    "        for j in range(i2, len(l2)):\n",
    "            result.append(l2[j])\n",
    "\n",
    "    return result\n",
    "\n",
    "assert mergeTwoLists([1, 3, 6], [5, 7, 8, 9]) == [1, 3, 5, 6, 7, 8, 9]\n",
    "assert mergeTwoLists([4, 5], [1, 2, 3]) == [1, 2, 3, 4, 5]\n",
    "assert mergeTwoLists([2, 2, 2], [2, 2, 2]) == [2, 2, 2, 2, 2, 2]\n",
    "assert mergeTwoLists([], [1, 2, 3]) == [1, 2, 3]"
   ]
  },
  {
   "cell_type": "code",
   "execution_count": 48,
   "metadata": {},
   "outputs": [
    {
     "data": {
      "text/plain": [
       "19"
      ]
     },
     "execution_count": 48,
     "metadata": {},
     "output_type": "execute_result"
    }
   ],
   "source": [
    "random.randint(0, 25)"
   ]
  },
  {
   "cell_type": "code",
   "execution_count": 49,
   "metadata": {},
   "outputs": [],
   "source": [
    "# Q9\n",
    "\n",
    "import random\n",
    "\n",
    "LOWER_LETTERS = 'abcdefghijklmnopqrstuvwxyz'\n",
    "UPPER_LETTERS = 'ABCDEFGHIJKLMNOPQRSTUVWXYZ'\n",
    "NUMBERS = '1234567890'\n",
    "SPECIAL = '~!@#$%^&*()_+'\n",
    "\n",
    "ALL_CHARS = LOWER_LETTERS + UPPER_LETTERS + NUMBERS + SPECIAL\n",
    "\n",
    "def generatePassword(length):\n",
    "    if length < 12:\n",
    "        length = 12\n",
    "\n",
    "    password = []\n",
    "    password.append(LOWER_LETTERS[random.randint(0, 25)]) \n",
    "    password.append(UPPER_LETTERS[random.randint(0, 25)]) \n",
    "    password.append(NUMBERS[random.randint(0, 9)]) \n",
    "    password.append(SPECIAL[random.randint(0, 12)])\n",
    "\n",
    "    while len(password) < length:\n",
    "        password.append(ALL_CHARS[random.randint(0, 74)])\n",
    "    \n",
    "    random.shuffle(password)\n",
    "    return ''.join(password)\n",
    "\n",
    "password = generatePassword(8)\n",
    "hasLowerCase = False\n",
    "hasUpperCase = False\n",
    "hasNumber = False\n",
    "hasSpecial = False\n",
    "\n",
    "for char in password:\n",
    "    if char in LOWER_LETTERS:\n",
    "        hasLowerCase = True\n",
    "    if char in UPPER_LETTERS:\n",
    "        hasUpperCase = True\n",
    "    if char in NUMBERS:\n",
    "        hasNumber = True\n",
    "    if char in SPECIAL:\n",
    "        hasSpecial = True\n",
    "\n",
    "assert hasLowerCase and hasUpperCase and hasNumber and hasSpecial"
   ]
  },
  {
   "cell_type": "code",
   "execution_count": null,
   "metadata": {},
   "outputs": [],
   "source": [
    "# Q10\n",
    "\n",
    "nums = [-1, 0, 1, -2, -1, 2, -4]\n",
    "nums.sort()\n",
    "answer = []\n",
    "for i in range(len(nums)): \n",
    "    if i > 0 and nums[i - 1] == nums[i]:\n",
    "        continue \n",
    "\n",
    "    j = i + 1 \n",
    "    k = len(nums) - 1 \n",
    "    while j < k: \n",
    "        s = nums[i] + nums[j] + nums[k] \n",
    "        if s > 0: \n",
    "            k -= 1  \n",
    "        elif s < 0: \n",
    "            j += 1\n",
    "        else:\n",
    "            answer.append([nums[i], nums[j], nums[k]]) \n",
    "            j += 1 \n",
    "            if nums[j - 1] == nums[j] and j < k: \n",
    "                j += 1   \n",
    "answer"
   ]
  }
 ],
 "metadata": {
  "kernelspec": {
   "display_name": "Python 3",
   "language": "python",
   "name": "python3"
  },
  "language_info": {
   "codemirror_mode": {
    "name": "ipython",
    "version": 3
   },
   "file_extension": ".py",
   "mimetype": "text/x-python",
   "name": "python",
   "nbconvert_exporter": "python",
   "pygments_lexer": "ipython3",
   "version": "3.9.16"
  },
  "orig_nbformat": 4,
  "vscode": {
   "interpreter": {
    "hash": "31f2aee4e71d21fbe5cf8b01ff0e069b9275f58929596ceb00d14d90e3e16cd6"
   }
  }
 },
 "nbformat": 4,
 "nbformat_minor": 2
}
